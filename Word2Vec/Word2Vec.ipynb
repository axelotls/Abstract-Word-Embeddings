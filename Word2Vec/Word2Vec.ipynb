{
 "cells": [
  {
   "cell_type": "code",
   "execution_count": 1,
   "id": "50c17e50",
   "metadata": {},
   "outputs": [],
   "source": [
    "# August M.\n",
    "# REU 2023\n",
    "# 'Word2Vec' creates a W2V model."
   ]
  },
  {
   "cell_type": "code",
   "execution_count": 2,
   "id": "5edd000f",
   "metadata": {
    "scrolled": true
   },
   "outputs": [],
   "source": [
    "%pip install nltk\n",
    "%pip install gensim"
   ]
  },
  {
   "cell_type": "code",
   "execution_count": 3,
   "id": "7126eb34",
   "metadata": {
    "scrolled": true
   },
   "outputs": [],
   "source": [
    "# imports for tokenization and stopword assistance\n",
    "import nltk\n",
    "nltk.download('punkt')\n",
    "import gensim \n",
    "from nltk import sent_tokenize\n",
    "from nltk import word_tokenize"
   ]
  },
  {
   "cell_type": "code",
   "execution_count": 4,
   "id": "7f7dd3aa",
   "metadata": {},
   "outputs": [],
   "source": [
    "# Insert txt file. A corpus may be used too.\n",
    "# Abtracts.txt = \"Metallocene AND (polymer OR polymerization)\" = ~14,790 Abstracts\n",
    "# Training is limited with this small dataset. Increase data size for more accuracy"
   ]
  },
  {
   "cell_type": "code",
   "execution_count": 5,
   "id": "1cf45a54",
   "metadata": {},
   "outputs": [],
   "source": [
    "data = \"./Abstracts.txt\""
   ]
  },
  {
   "cell_type": "code",
   "execution_count": 6,
   "id": "e32b8f28",
   "metadata": {
    "scrolled": false
   },
   "outputs": [],
   "source": [
    "# StopWords Version\n",
    "from nltk.corpus import stopwords\n",
    "nltk.download('stopwords')\n",
    "stop = stopwords.words('english')\n",
    "new_stopwords = [\"the\", \"is\", \"a\", \"to\", \"in\", \"of\", \"with\", \"thus\", \".\", \",\"]\n",
    "stop.extend(new_stopwords)\n",
    "\n",
    "with open (data) as fin:\n",
    "    temp = [word_tokenize(sent) for sent in fin]\n",
    "    tokens = []\n",
    "    for sent in temp:\n",
    "        filtered_sent = [word for word in sent if word.lower() not in stop]\n",
    "        tokens.append(filtered_sent)"
   ]
  },
  {
   "cell_type": "code",
   "execution_count": null,
   "id": "f1567a60",
   "metadata": {},
   "outputs": [],
   "source": [
    "# ------- Non-Stopwords version -------\n",
    "# with open ('./Abstracts.txt') as fin:\n",
    "#     tokens = [word_tokenize(sent) for sent in fin]"
   ]
  },
  {
   "cell_type": "code",
   "execution_count": 13,
   "id": "13e1dab8",
   "metadata": {
    "scrolled": true
   },
   "outputs": [],
   "source": [
    "model = gensim.models.Word2Vec(tokens, min_count=5, sg=1, vector_size=150, workers=10, window=10, epochs=100, compute_loss=True)"
   ]
  },
  {
   "cell_type": "code",
   "execution_count": 14,
   "id": "1b384da3",
   "metadata": {
    "scrolled": true
   },
   "outputs": [],
   "source": [
    "model.wv.save('word2vec.bin')\n",
    "model.save('word2vec.model')\n",
    "model.wv.save_word2vec_format('word2vec')"
   ]
  },
  {
   "cell_type": "code",
   "execution_count": null,
   "id": "e042b1de",
   "metadata": {},
   "outputs": [],
   "source": []
  }
 ],
 "metadata": {
  "kernelspec": {
   "display_name": "Python 3 (ipykernel)",
   "language": "python",
   "name": "python3"
  },
  "language_info": {
   "codemirror_mode": {
    "name": "ipython",
    "version": 3
   },
   "file_extension": ".py",
   "mimetype": "text/x-python",
   "name": "python",
   "nbconvert_exporter": "python",
   "pygments_lexer": "ipython3",
   "version": "3.11.4"
  }
 },
 "nbformat": 4,
 "nbformat_minor": 5
}
