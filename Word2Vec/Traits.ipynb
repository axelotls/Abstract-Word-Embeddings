{
 "cells": [
  {
   "cell_type": "code",
   "execution_count": 18,
   "id": "96d12b29",
   "metadata": {},
   "outputs": [],
   "source": [
    "# August M.\n",
    "# 'Traits' simply observes model traits"
   ]
  },
  {
   "cell_type": "code",
   "execution_count": 30,
   "id": "530cc8a4",
   "metadata": {},
   "outputs": [
    {
     "name": "stdout",
     "output_type": "stream",
     "text": [
      "Word2Vec<vocab=17938, vector_size=150, alpha=0.025>\n"
     ]
    }
   ],
   "source": [
    "import gensim\n",
    "\n",
    "# Load Word2Vec model\n",
    "model = gensim.models.Word2Vec.load(\"word2vec.model\")\n",
    "print(model)"
   ]
  },
  {
   "cell_type": "code",
   "execution_count": 31,
   "id": "11addf3f",
   "metadata": {},
   "outputs": [
    {
     "name": "stdout",
     "output_type": "stream",
     "text": [
      "Training loss:  69327288.0\n"
     ]
    }
   ],
   "source": [
    "loss = model.get_latest_training_loss()\n",
    "print(\"Training loss: \", loss)"
   ]
  },
  {
   "cell_type": "code",
   "execution_count": 37,
   "id": "0a1c45c2",
   "metadata": {},
   "outputs": [],
   "source": [
    "words = list(model.wv.index_to_key)"
   ]
  },
  {
   "cell_type": "code",
   "execution_count": 38,
   "id": "b3f98937",
   "metadata": {},
   "outputs": [
    {
     "name": "stdout",
     "output_type": "stream",
     "text": [
      "Requirement already satisfied: pandas in c:\\users\\owner\\appdata\\local\\programs\\python\\python311\\lib\\site-packages\\pandas-2.0.2-py3.11-win-amd64.egg (2.0.2)\n",
      "Requirement already satisfied: python-dateutil>=2.8.2 in c:\\users\\owner\\appdata\\local\\programs\\python\\python311\\lib\\site-packages (from pandas) (2.8.2)\n",
      "Requirement already satisfied: pytz>=2020.1 in c:\\users\\owner\\appdata\\local\\programs\\python\\python311\\lib\\site-packages (from pandas) (2023.3)\n",
      "Requirement already satisfied: tzdata>=2022.1 in c:\\users\\owner\\appdata\\local\\programs\\python\\python311\\lib\\site-packages (from pandas) (2023.3)\n",
      "Requirement already satisfied: numpy>=1.21.0 in c:\\users\\owner\\appdata\\local\\programs\\python\\python311\\lib\\site-packages (from pandas) (1.23.5)\n",
      "Requirement already satisfied: six>=1.5 in c:\\users\\owner\\appdata\\local\\programs\\python\\python311\\lib\\site-packages (from python-dateutil>=2.8.2->pandas) (1.16.0)\n",
      "Note: you may need to restart the kernel to use updated packages.\n",
      "               Word  Similarity Score\n",
      "0         catalysts          0.556448\n",
      "1          catalyst          0.529663\n",
      "2      polyethylene          0.511766\n",
      "3          polymers          0.510874\n",
      "4         structure          0.490558\n",
      "5       single-site          0.487959\n",
      "6     heterogeneous          0.485732\n",
      "7            olefin          0.484950\n",
      "8             based          0.483664\n",
      "9       homogeneous          0.482628\n",
      "10  organobentonite          0.473002\n",
      "11          systems          0.467132\n",
      "12        supported          0.461427\n",
      "13    Ziegler-Natta          0.459438\n",
      "14         ethylene          0.459291\n",
      "15         _2ZrCl_2          0.459166\n",
      "16       polyolefin          0.457940\n",
      "17     metallocenes          0.452504\n",
      "18        zirconium          0.451487\n",
      "19         reviewed          0.449470\n",
      "20       properties          0.448782\n",
      "21        molecular          0.447310\n",
      "22         Chromium          0.444217\n",
      "23    polyethylenes          0.444008\n",
      "24       2ZrCl2/MAO          0.443099\n",
      "25   polymerization          0.441998\n",
      "26           active          0.431325\n",
      "27        developed          0.430653\n",
      "28              CPC          0.430255\n",
      "29           pincer          0.429571\n",
      "30        catalyzed          0.427699\n",
      "31           ligand          0.425521\n",
      "32           n-BuCp          0.425325\n",
      "33             also          0.425217\n",
      "34        complexes          0.424814\n",
      "35             rac-          0.422845\n",
      "36        influence          0.422177\n",
      "37             used          0.421467\n",
      "38              use          0.421418\n",
      "39      low-density          0.419371\n",
      "40       cocatalyst          0.418132\n",
      "41      zirconocene          0.417007\n",
      "42        catalytic          0.415760\n",
      "43           linear          0.414361\n",
      "44       dichloride          0.412566\n",
      "45    polypropylene          0.412162\n",
      "46           chains          0.412098\n",
      "47         creative          0.412002\n",
      "48      all-polymer          0.411824\n",
      "49    2-Me-4-Ph-Ind          0.409642\n"
     ]
    },
    {
     "name": "stderr",
     "output_type": "stream",
     "text": [
      "DEPRECATION: Loading egg at c:\\users\\owner\\appdata\\local\\programs\\python\\python311\\lib\\site-packages\\deepctr-0.9.3-py3.11.egg is deprecated. pip 23.3 will enforce this behaviour change. A possible replacement is to use pip for package installation..\n",
      "DEPRECATION: Loading egg at c:\\users\\owner\\appdata\\local\\programs\\python\\python311\\lib\\site-packages\\fastdtw-0.3.4-py3.11.egg is deprecated. pip 23.3 will enforce this behaviour change. A possible replacement is to use pip for package installation..\n",
      "DEPRECATION: Loading egg at c:\\users\\owner\\appdata\\local\\programs\\python\\python311\\lib\\site-packages\\ge-0.0.0-py3.11.egg is deprecated. pip 23.3 will enforce this behaviour change. A possible replacement is to use pip for package installation..\n",
      "DEPRECATION: Loading egg at c:\\users\\owner\\appdata\\local\\programs\\python\\python311\\lib\\site-packages\\gensim-4.3.1-py3.11-win-amd64.egg is deprecated. pip 23.3 will enforce this behaviour change. A possible replacement is to use pip for package installation..\n",
      "DEPRECATION: Loading egg at c:\\users\\owner\\appdata\\local\\programs\\python\\python311\\lib\\site-packages\\joblib-1.2.0-py3.11.egg is deprecated. pip 23.3 will enforce this behaviour change. A possible replacement is to use pip for package installation..\n",
      "DEPRECATION: Loading egg at c:\\users\\owner\\appdata\\local\\programs\\python\\python311\\lib\\site-packages\\matplotlib-3.7.1-py3.11-win-amd64.egg is deprecated. pip 23.3 will enforce this behaviour change. A possible replacement is to use pip for package installation..\n",
      "DEPRECATION: Loading egg at c:\\users\\owner\\appdata\\local\\programs\\python\\python311\\lib\\site-packages\\networkx-3.1-py3.11.egg is deprecated. pip 23.3 will enforce this behaviour change. A possible replacement is to use pip for package installation..\n",
      "DEPRECATION: Loading egg at c:\\users\\owner\\appdata\\local\\programs\\python\\python311\\lib\\site-packages\\pandas-2.0.2-py3.11-win-amd64.egg is deprecated. pip 23.3 will enforce this behaviour change. A possible replacement is to use pip for package installation..\n",
      "DEPRECATION: Loading egg at c:\\users\\owner\\appdata\\local\\programs\\python\\python311\\lib\\site-packages\\scikit_learn-1.3.0rc1-py3.11-win-amd64.egg is deprecated. pip 23.3 will enforce this behaviour change. A possible replacement is to use pip for package installation..\n",
      "DEPRECATION: Loading egg at c:\\users\\owner\\appdata\\local\\programs\\python\\python311\\lib\\site-packages\\tqdm-4.65.0-py3.11.egg is deprecated. pip 23.3 will enforce this behaviour change. A possible replacement is to use pip for package installation..\n"
     ]
    }
   ],
   "source": [
    "%pip install pandas\n",
    "import pandas as pd\n",
    "\n",
    "# Sample list of tuples\n",
    "list_of_tuples = model.wv.most_similar(positive=['polymer', 'metallocene'], topn=50)\n",
    "# Create a DataFrame from the list of tuples\n",
    "df = pd.DataFrame(list_of_tuples, columns=['Word', 'Similarity Score'])\n",
    "\n",
    "# Display the DataFrame as a table\n",
    "print(df)"
   ]
  },
  {
   "cell_type": "code",
   "execution_count": 39,
   "id": "3d88bd6d",
   "metadata": {},
   "outputs": [
    {
     "name": "stdout",
     "output_type": "stream",
     "text": [
      "Note: you may need to restart the kernel to use updated packages.Requirement already satisfied: tabulate in c:\\users\\owner\\appdata\\local\\programs\\python\\python311\\lib\\site-packages (0.9.0)\n",
      "\n",
      "Word               Similarity Score\n",
      "---------------  ------------------\n",
      "catalysts                  0.556448\n",
      "catalyst                   0.529663\n",
      "polyethylene               0.511766\n",
      "polymers                   0.510874\n",
      "structure                  0.490558\n",
      "single-site                0.487959\n",
      "heterogeneous              0.485732\n",
      "olefin                     0.48495\n",
      "based                      0.483664\n",
      "homogeneous                0.482628\n",
      "organobentonite            0.473002\n",
      "systems                    0.467132\n",
      "supported                  0.461427\n",
      "Ziegler-Natta              0.459438\n",
      "ethylene                   0.459291\n",
      "_2ZrCl_2                   0.459166\n",
      "polyolefin                 0.45794\n",
      "metallocenes               0.452504\n",
      "zirconium                  0.451487\n",
      "reviewed                   0.44947\n",
      "properties                 0.448782\n",
      "molecular                  0.44731\n",
      "Chromium                   0.444217\n",
      "polyethylenes              0.444008\n",
      "2ZrCl2/MAO                 0.443099\n",
      "polymerization             0.441998\n",
      "active                     0.431325\n",
      "developed                  0.430653\n",
      "CPC                        0.430255\n",
      "pincer                     0.429571\n",
      "catalyzed                  0.427699\n",
      "ligand                     0.425521\n",
      "n-BuCp                     0.425325\n",
      "also                       0.425217\n",
      "complexes                  0.424814\n",
      "rac-                       0.422845\n",
      "influence                  0.422177\n",
      "used                       0.421467\n",
      "use                        0.421418\n",
      "low-density                0.419371\n",
      "cocatalyst                 0.418132\n",
      "zirconocene                0.417007\n",
      "catalytic                  0.41576\n",
      "linear                     0.414361\n",
      "dichloride                 0.412566\n",
      "polypropylene              0.412162\n",
      "chains                     0.412098\n",
      "creative                   0.412002\n",
      "all-polymer                0.411824\n",
      "2-Me-4-Ph-Ind              0.409642\n"
     ]
    },
    {
     "name": "stderr",
     "output_type": "stream",
     "text": [
      "DEPRECATION: Loading egg at c:\\users\\owner\\appdata\\local\\programs\\python\\python311\\lib\\site-packages\\deepctr-0.9.3-py3.11.egg is deprecated. pip 23.3 will enforce this behaviour change. A possible replacement is to use pip for package installation..\n",
      "DEPRECATION: Loading egg at c:\\users\\owner\\appdata\\local\\programs\\python\\python311\\lib\\site-packages\\fastdtw-0.3.4-py3.11.egg is deprecated. pip 23.3 will enforce this behaviour change. A possible replacement is to use pip for package installation..\n",
      "DEPRECATION: Loading egg at c:\\users\\owner\\appdata\\local\\programs\\python\\python311\\lib\\site-packages\\ge-0.0.0-py3.11.egg is deprecated. pip 23.3 will enforce this behaviour change. A possible replacement is to use pip for package installation..\n",
      "DEPRECATION: Loading egg at c:\\users\\owner\\appdata\\local\\programs\\python\\python311\\lib\\site-packages\\gensim-4.3.1-py3.11-win-amd64.egg is deprecated. pip 23.3 will enforce this behaviour change. A possible replacement is to use pip for package installation..\n",
      "DEPRECATION: Loading egg at c:\\users\\owner\\appdata\\local\\programs\\python\\python311\\lib\\site-packages\\joblib-1.2.0-py3.11.egg is deprecated. pip 23.3 will enforce this behaviour change. A possible replacement is to use pip for package installation..\n",
      "DEPRECATION: Loading egg at c:\\users\\owner\\appdata\\local\\programs\\python\\python311\\lib\\site-packages\\matplotlib-3.7.1-py3.11-win-amd64.egg is deprecated. pip 23.3 will enforce this behaviour change. A possible replacement is to use pip for package installation..\n",
      "DEPRECATION: Loading egg at c:\\users\\owner\\appdata\\local\\programs\\python\\python311\\lib\\site-packages\\networkx-3.1-py3.11.egg is deprecated. pip 23.3 will enforce this behaviour change. A possible replacement is to use pip for package installation..\n",
      "DEPRECATION: Loading egg at c:\\users\\owner\\appdata\\local\\programs\\python\\python311\\lib\\site-packages\\pandas-2.0.2-py3.11-win-amd64.egg is deprecated. pip 23.3 will enforce this behaviour change. A possible replacement is to use pip for package installation..\n",
      "DEPRECATION: Loading egg at c:\\users\\owner\\appdata\\local\\programs\\python\\python311\\lib\\site-packages\\scikit_learn-1.3.0rc1-py3.11-win-amd64.egg is deprecated. pip 23.3 will enforce this behaviour change. A possible replacement is to use pip for package installation..\n",
      "DEPRECATION: Loading egg at c:\\users\\owner\\appdata\\local\\programs\\python\\python311\\lib\\site-packages\\tqdm-4.65.0-py3.11.egg is deprecated. pip 23.3 will enforce this behaviour change. A possible replacement is to use pip for package installation..\n"
     ]
    }
   ],
   "source": [
    "%pip install tabulate\n",
    "from tabulate import tabulate\n",
    "\n",
    "# Sample list of tuples\n",
    "list_of_tuples = model.wv.most_similar(positive=['polymer', 'metallocene'], topn=50)\n",
    "\n",
    "# Display the list of tuples as a table\n",
    "print(tabulate(list_of_tuples, headers=['Word', 'Similarity Score']))"
   ]
  },
  {
   "cell_type": "code",
   "execution_count": 40,
   "id": "de23f1e2",
   "metadata": {},
   "outputs": [
    {
     "data": {
      "text/plain": [
       "[('catalysts', 0.6299522519111633),\n",
       " ('catalyst', 0.6026051044464111),\n",
       " ('_2ZrCl_2', 0.5552638173103333),\n",
       " ('metallocenes', 0.5262435674667358),\n",
       " ('zirconium', 0.5216509699821472),\n",
       " ('n-BuCp', 0.5136640071868896),\n",
       " ('supported', 0.5127086043357849),\n",
       " ('catalyzed', 0.5111023187637329),\n",
       " ('olefin', 0.5071701407432556),\n",
       " ('zirconocene', 0.5053699612617493),\n",
       " ('dichloride', 0.5040273070335388),\n",
       " ('methylaluminoxane', 0.5027100443840027),\n",
       " ('single-site', 0.4965766370296478),\n",
       " ('ethylene', 0.49564939737319946),\n",
       " ('Zr', 0.49359330534935),\n",
       " ('Ziegler-Natta', 0.49357178807258606),\n",
       " ('polyethylene', 0.49315398931503296),\n",
       " ('dichlorides', 0.4899524450302124),\n",
       " ('Metallocene', 0.48888444900512695),\n",
       " ('Ziegler–Natta', 0.4873102307319641),\n",
       " ('polyethylenes', 0.4871957302093506),\n",
       " ('complexes', 0.48481354117393494),\n",
       " ('MAO', 0.48412051796913147),\n",
       " ('Cp_2ZrCl_2', 0.4759306311607361),\n",
       " ('catalytic', 0.4736590087413788),\n",
       " ('CPC', 0.4736138880252838),\n",
       " ('cyclopentadienyl', 0.47334161400794983),\n",
       " ('X=Cl', 0.47121182084083557),\n",
       " ('silica-supported', 0.46319329738616943),\n",
       " ('indenyl', 0.46218496561050415),\n",
       " ('Ind', 0.46208831667900085),\n",
       " ('methylalumoxane', 0.4615591764450073),\n",
       " ('rac-', 0.45965132117271423),\n",
       " ('cocatalyst', 0.4529973864555359),\n",
       " ('Me_2Si', 0.45121172070503235),\n",
       " ('2-Me-4-Ph-Ind', 0.44921913743019104),\n",
       " ('propene', 0.4484742283821106),\n",
       " ('isospecific', 0.4443504810333252),\n",
       " ('ligand', 0.442552775144577),\n",
       " ('2ZrCl2/MAO', 0.44121211767196655),\n",
       " ('MgCl_2-supported', 0.44107070565223694),\n",
       " ('ansa-zirconocene', 0.4404536485671997),\n",
       " ('mPE-g-silane', 0.440142422914505),\n",
       " ('C6H5C', 0.43729889392852783),\n",
       " ('ansa-metallocene', 0.43689849972724915),\n",
       " ('systems', 0.43463757634162903),\n",
       " ('Cp', 0.4340208172798157),\n",
       " ('MCl2', 0.4307788610458374),\n",
       " ('homogeneous', 0.42912694811820984),\n",
       " ('syndiospecific', 0.42834705114364624),\n",
       " ('Me2Si', 0.42554521560668945),\n",
       " ('Hf', 0.4245312809944153),\n",
       " ('2ZrCl2', 0.42359545826911926),\n",
       " ('bridged', 0.4233458936214447),\n",
       " ('RCp', 0.42322665452957153),\n",
       " ('heterogeneous', 0.42265424132347107),\n",
       " ('bis-cyclopentadienyl', 0.4214380979537964),\n",
       " ('NMe_2', 0.4210701584815979),\n",
       " ('/clay', 0.41974326968193054),\n",
       " ('dinuclear', 0.4197038412094116),\n",
       " ('_2Si', 0.4192371666431427),\n",
       " ('PE/g', 0.41770341992378235),\n",
       " ('ligands', 0.4171691834926605),\n",
       " ('polyolefin', 0.4150918126106262),\n",
       " ('Chromium', 0.4147018492221832),\n",
       " ('2S', 0.4138316214084625),\n",
       " ('rac-Me2Si', 0.41296181082725525),\n",
       " (')', 0.4126835763454437),\n",
       " ('pincer', 0.4121609032154083),\n",
       " ('Phillips', 0.41158679127693176),\n",
       " ('Cp_2ZrCl_2/MAO', 0.4107634723186493),\n",
       " ('-Me_2Si', 0.4096193015575409),\n",
       " ('(', 0.4077043831348419),\n",
       " ('postmetallocene', 0.40712398290634155),\n",
       " ('unbridged', 0.4070018231868744),\n",
       " ('ansa', 0.4068533182144165),\n",
       " ('nickel-based', 0.4063718020915985),\n",
       " ('ZrCl2', 0.4062272608280182),\n",
       " ('Propylene', 0.4059988558292389),\n",
       " ('NC6H11', 0.4043685495853424),\n",
       " ('dysprosium', 0.4043542444705963),\n",
       " ('frequent', 0.4031343460083008),\n",
       " ('hypergolic', 0.40303561091423035),\n",
       " ('low-density', 0.402025431394577),\n",
       " ('CpZr', 0.401300311088562),\n",
       " ('propylene', 0.40074703097343445),\n",
       " ('hafnium', 0.4001677334308624),\n",
       " ('catalysis', 0.39973095059394836),\n",
       " ('vanadium', 0.39932781457901),\n",
       " ('Ziegler—Natta', 0.3982083797454834),\n",
       " ('cat', 0.3975622355937958),\n",
       " ('chromocene', 0.3963647782802582),\n",
       " ('homodinuclear', 0.39586079120635986),\n",
       " ('rac', 0.3953777849674225),\n",
       " ('MoS2', 0.3951832354068756),\n",
       " ('4R,5R', 0.3946042060852051),\n",
       " ('alkylidene', 0.39406558871269226),\n",
       " ('LLDPEs', 0.3940615653991699),\n",
       " ('sulfated', 0.39366012811660767),\n",
       " ('ethylene/1-hexene', 0.3936183452606201)]"
      ]
     },
     "execution_count": 40,
     "metadata": {},
     "output_type": "execute_result"
    }
   ],
   "source": [
    "model.wv.most_similar('metallocene', topn=100)"
   ]
  },
  {
   "cell_type": "code",
   "execution_count": null,
   "id": "e88b6beb",
   "metadata": {},
   "outputs": [],
   "source": []
  }
 ],
 "metadata": {
  "kernelspec": {
   "display_name": "Python 3 (ipykernel)",
   "language": "python",
   "name": "python3"
  },
  "language_info": {
   "codemirror_mode": {
    "name": "ipython",
    "version": 3
   },
   "file_extension": ".py",
   "mimetype": "text/x-python",
   "name": "python",
   "nbconvert_exporter": "python",
   "pygments_lexer": "ipython3",
   "version": "3.11.4"
  }
 },
 "nbformat": 4,
 "nbformat_minor": 5
}
