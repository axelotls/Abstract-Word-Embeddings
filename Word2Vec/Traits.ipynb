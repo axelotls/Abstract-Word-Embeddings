{
 "cells": [
  {
   "cell_type": "code",
   "execution_count": 18,
   "id": "96d12b29",
   "metadata": {},
   "outputs": [],
   "source": [
    "# August M.\n",
    "# 'Traits' simply observes model traits"
   ]
  },
  {
   "cell_type": "code",
   "execution_count": 1,
   "id": "530cc8a4",
   "metadata": {},
   "outputs": [
    {
     "name": "stdout",
     "output_type": "stream",
     "text": [
      "Word2Vec<vocab=14031, vector_size=150, alpha=0.025>\n"
     ]
    }
   ],
   "source": [
    "import gensim\n",
    "\n",
    "# Load Word2Vec model\n",
    "model = gensim.models.Word2Vec.load(\"word2vec.model\")\n",
    "print(model)"
   ]
  },
  {
   "cell_type": "code",
   "execution_count": 2,
   "id": "11addf3f",
   "metadata": {},
   "outputs": [
    {
     "name": "stdout",
     "output_type": "stream",
     "text": [
      "Training loss:  68291840.0\n"
     ]
    }
   ],
   "source": [
    "loss = model.get_latest_training_loss()\n",
    "print(\"Training loss: \", loss)"
   ]
  },
  {
   "cell_type": "code",
   "execution_count": 3,
   "id": "0a1c45c2",
   "metadata": {},
   "outputs": [],
   "source": [
    "words = list(model.wv.index_to_key)"
   ]
  },
  {
   "cell_type": "code",
   "execution_count": 4,
   "id": "b3f98937",
   "metadata": {},
   "outputs": [
    {
     "name": "stdout",
     "output_type": "stream",
     "text": [
      "Defaulting to user installation because normal site-packages is not writeable\n",
      "Requirement already satisfied: pandas in /home/august/.local/lib/python3.10/site-packages (2.0.2)\n",
      "Requirement already satisfied: pytz>=2020.1 in /home/august/.local/lib/python3.10/site-packages (from pandas) (2023.3)\n",
      "Requirement already satisfied: numpy>=1.21.0 in /home/august/.local/lib/python3.10/site-packages (from pandas) (1.23.5)\n",
      "Requirement already satisfied: python-dateutil>=2.8.2 in /home/august/.local/lib/python3.10/site-packages (from pandas) (2.8.2)\n",
      "Requirement already satisfied: tzdata>=2022.1 in /home/august/.local/lib/python3.10/site-packages (from pandas) (2023.3)\n",
      "Requirement already satisfied: six>=1.5 in /usr/lib/python3/dist-packages (from python-dateutil>=2.8.2->pandas) (1.16.0)\n",
      "Note: you may need to restart the kernel to use updated packages.\n",
      "                       Word  Similarity Score\n",
      "0                 catalysts          0.591351\n",
      "1                  polymers          0.527874\n",
      "2                  catalyst          0.496241\n",
      "3              phenylsilane          0.473423\n",
      "4                    olefin          0.472653\n",
      "5                  _2ZrCl_2          0.468598\n",
      "6               isospecific          0.468559\n",
      "7                      POPs          0.462850\n",
      "8                  supports          0.459661\n",
      "9                 molecular          0.457826\n",
      "10            Ziegler-Natta          0.457668\n",
      "11               cocatalyst          0.457377\n",
      "12                  systems          0.454232\n",
      "13                    TiO_2          0.454080\n",
      "14                   rac-Et          0.453256\n",
      "15                      Ind          0.451113\n",
      "16                   n-BuCp          0.449207\n",
      "17        ethylene/1-hexene          0.448126\n",
      "18                education          0.447887\n",
      "19            heterogeneous          0.445332\n",
      "20                  propene          0.445126\n",
      "21                   2ZrCl2          0.444728\n",
      "22                  Polymer          0.443907\n",
      "23                      -Et          0.442394\n",
      "24               Cp_2ZrCl_2          0.441676\n",
      "25                 δυναμική          0.440895\n",
      "26           polymerization          0.440669\n",
      "27             metallocenes          0.439797\n",
      "28  organo-heterostructures          0.438503\n",
      "29            2-Me-4-Ph-Ind          0.435496\n",
      "30                   MgCl_2          0.434432\n",
      "31           organometallic          0.433994\n",
      "32                    metal          0.433717\n",
      "33            half-sandwich          0.433437\n",
      "34                   report          0.433331\n",
      "35                 approach          0.432835\n",
      "36              anniversary          0.431911\n",
      "37                  επίπεδο          0.431888\n",
      "38                     2,7-          0.431741\n",
      "39                structure          0.430250\n",
      "40                    chain          0.430076\n",
      "41                      Bis          0.429167\n",
      "42            polyethylenes          0.428884\n",
      "43                zirconium          0.427616\n",
      "44               πολυμερούς          0.427169\n",
      "45                      rac          0.426620\n",
      "46                 ethylene          0.426200\n",
      "47                α-olefins          0.425419\n",
      "48               technology          0.425333\n",
      "49                 αλυσίδων          0.424589\n"
     ]
    }
   ],
   "source": [
    "%pip install pandas\n",
    "import pandas as pd\n",
    "\n",
    "# Sample list of tuples\n",
    "list_of_tuples = model.wv.most_similar(positive=['polymer', 'metallocene'], topn=50)\n",
    "# Create a DataFrame from the list of tuples\n",
    "df = pd.DataFrame(list_of_tuples, columns=['Word', 'Similarity Score'])\n",
    "\n",
    "# Display the DataFrame as a table\n",
    "print(df)"
   ]
  },
  {
   "cell_type": "code",
   "execution_count": 5,
   "id": "3d88bd6d",
   "metadata": {},
   "outputs": [
    {
     "name": "stdout",
     "output_type": "stream",
     "text": [
      "Defaulting to user installation because normal site-packages is not writeable\n",
      "Requirement already satisfied: tabulate in /home/august/.local/lib/python3.10/site-packages (0.9.0)\n",
      "Note: you may need to restart the kernel to use updated packages.\n",
      "Word                       Similarity Score\n",
      "-----------------------  ------------------\n",
      "catalysts                          0.591351\n",
      "polymers                           0.527874\n",
      "catalyst                           0.496241\n",
      "phenylsilane                       0.473423\n",
      "olefin                             0.472653\n",
      "_2ZrCl_2                           0.468598\n",
      "isospecific                        0.468559\n",
      "POPs                               0.46285\n",
      "supports                           0.459661\n",
      "molecular                          0.457826\n",
      "Ziegler-Natta                      0.457668\n",
      "cocatalyst                         0.457377\n",
      "systems                            0.454232\n",
      "TiO_2                              0.45408\n",
      "rac-Et                             0.453256\n",
      "Ind                                0.451113\n",
      "n-BuCp                             0.449207\n",
      "ethylene/1-hexene                  0.448126\n",
      "education                          0.447887\n",
      "heterogeneous                      0.445332\n",
      "propene                            0.445126\n",
      "2ZrCl2                             0.444728\n",
      "Polymer                            0.443907\n",
      "-Et                                0.442394\n",
      "Cp_2ZrCl_2                         0.441676\n",
      "δυναμική                           0.440895\n",
      "polymerization                     0.440669\n",
      "metallocenes                       0.439797\n",
      "organo-heterostructures            0.438503\n",
      "2-Me-4-Ph-Ind                      0.435496\n",
      "MgCl_2                             0.434432\n",
      "organometallic                     0.433994\n",
      "metal                              0.433717\n",
      "half-sandwich                      0.433437\n",
      "report                             0.433331\n",
      "approach                           0.432835\n",
      "anniversary                        0.431911\n",
      "επίπεδο                            0.431888\n",
      "2,7-                               0.431741\n",
      "structure                          0.43025\n",
      "chain                              0.430076\n",
      "Bis                                0.429167\n",
      "polyethylenes                      0.428884\n",
      "zirconium                          0.427616\n",
      "πολυμερούς                         0.427169\n",
      "rac                                0.42662\n",
      "ethylene                           0.4262\n",
      "α-olefins                          0.425419\n",
      "technology                         0.425333\n",
      "αλυσίδων                           0.424589\n"
     ]
    }
   ],
   "source": [
    "%pip install tabulate\n",
    "from tabulate import tabulate\n",
    "\n",
    "# Sample list of tuples\n",
    "list_of_tuples = model.wv.most_similar(positive=['polymer', 'metallocene'], topn=50)\n",
    "\n",
    "# Display the list of tuples as a table\n",
    "print(tabulate(list_of_tuples, headers=['Word', 'Similarity Score']))"
   ]
  },
  {
   "cell_type": "code",
   "execution_count": 6,
   "id": "de23f1e2",
   "metadata": {},
   "outputs": [
    {
     "data": {
      "text/plain": [
       "[('catalysts', 0.7580224275588989),\n",
       " ('catalyst', 0.6502309441566467),\n",
       " ('cocatalyst', 0.58073490858078),\n",
       " ('methylaluminoxane', 0.5735403895378113),\n",
       " ('Ziegler-Natta', 0.5703717470169067),\n",
       " ('polyethylenes', 0.550466775894165),\n",
       " ('TiO_2', 0.5485601425170898),\n",
       " ('olefin', 0.5416138172149658),\n",
       " ('MAO', 0.5409442782402039),\n",
       " ('propene', 0.537097156047821),\n",
       " ('ethylene/1-hexene', 0.5368254780769348),\n",
       " ('cyclopentadienyl', 0.536597728729248),\n",
       " ('catalyzed', 0.5355195999145508),\n",
       " ('isospecific', 0.5350164771080017),\n",
       " ('Ind', 0.5346091389656067),\n",
       " ('methylalumoxane', 0.5309708714485168),\n",
       " ('n-BuCp', 0.5278329849243164),\n",
       " ('rac', 0.5276340246200562),\n",
       " ('zirconium', 0.5260261297225952),\n",
       " ('syndiospecific', 0.5222129225730896),\n",
       " ('_2ZrCl_2', 0.518781304359436),\n",
       " ('MgCl_2', 0.518603503704071),\n",
       " ('Cp_2ZrCl_2', 0.51754230260849),\n",
       " ('single-site', 0.5172138214111328),\n",
       " ('rac-Et', 0.5062664747238159),\n",
       " ('Phillips', 0.5041683912277222),\n",
       " ('Metallocene', 0.5027039647102356),\n",
       " ('supported', 0.5008965730667114),\n",
       " ('ZrCl2', 0.498470664024353),\n",
       " ('complexes', 0.49638351798057556),\n",
       " ('2ZrCl2', 0.49631309509277344),\n",
       " ('indenyl', 0.4934832751750946),\n",
       " ('-Et', 0.49157050251960754),\n",
       " ('phenylsilane', 0.4908731281757355),\n",
       " ('Ziegler–Natta', 0.4907030761241913),\n",
       " ('metallocenes', 0.49063560366630554),\n",
       " ('organoaluminum', 0.48810651898384094),\n",
       " ('dichloride', 0.48667699098587036),\n",
       " ('Et', 0.4863035976886749),\n",
       " ('copolymerization', 0.4857667088508606),\n",
       " ('Flu', 0.48555195331573486),\n",
       " ('ligands', 0.4854922294616699),\n",
       " ('ansa', 0.4826790392398834),\n",
       " ('unbridged', 0.4817322790622711),\n",
       " ('polymerization', 0.48164913058280945),\n",
       " ('heterogenized', 0.47959092259407043),\n",
       " ('catalytic', 0.4776497185230255),\n",
       " ('ZrCl_2', 0.47632861137390137),\n",
       " ('ph-AFQMC', 0.47246241569519043),\n",
       " ('silica-supported', 0.4711476266384125),\n",
       " ('ethylene', 0.47052082419395447),\n",
       " ('α-olefins', 0.4692333936691284),\n",
       " ('half-sandwich', 0.4688073694705963),\n",
       " ('Zr', 0.4669790267944336),\n",
       " ('_2', 0.46350619196891785),\n",
       " ('cat', 0.4627913534641266),\n",
       " ('supports', 0.4627723693847656),\n",
       " ('alkylaluminum', 0.46230074763298035),\n",
       " ('dichlorides', 0.4617181718349457),\n",
       " ('Hf', 0.459876149892807),\n",
       " ('ligand', 0.45693057775497437),\n",
       " ('1-hexene', 0.45577219128608704),\n",
       " ('cocatalysts', 0.4544718861579895),\n",
       " ('mononuclear', 0.4542832672595978),\n",
       " ('oligomerization', 0.454163134098053),\n",
       " ('1-octene', 0.4527466595172882),\n",
       " ('zirconocene', 0.44967710971832275),\n",
       " ('SiO_2', 0.4490402638912201),\n",
       " ('Cp', 0.44766348600387573),\n",
       " ('ethylene/1-octene', 0.44639816880226135),\n",
       " ('2a', 0.446365088224411),\n",
       " ('-metallocene', 0.4444085359573364),\n",
       " ('Ti', 0.4433293342590332),\n",
       " ('triisobutylaluminum', 0.44304904341697693),\n",
       " ('2-Me-4-Ph-Ind', 0.44062697887420654),\n",
       " ('organometallic', 0.44025513529777527),\n",
       " ('Me_2Si', 0.4397972822189331),\n",
       " ('Cp^', 0.43974336981773376),\n",
       " ('gas-phase', 0.4373229444026947),\n",
       " ('pentafluorophenyl', 0.43695753812789917),\n",
       " ('aluminoxane', 0.4367060661315918),\n",
       " ('propylene', 0.4351528286933899),\n",
       " ('catalytically', 0.4349152147769928),\n",
       " ('mono-', 0.43439874053001404),\n",
       " ('Al/Zr', 0.4343050420284271),\n",
       " ('organo-heterostructures', 0.4337119460105896),\n",
       " ('tetrakis', 0.43288782238960266),\n",
       " ('hexene', 0.43117251992225647),\n",
       " ('activity', 0.429770290851593),\n",
       " ('Cp_2TiCl_2', 0.4296911954879761),\n",
       " ('CCDs', 0.4292941987514496),\n",
       " ('LLDPEs', 0.4274277687072754),\n",
       " ('-Me_2Si', 0.4273182451725006),\n",
       " ('2b', 0.4260100722312927),\n",
       " ('MCM-41', 0.4259749948978424),\n",
       " ('crystallography', 0.4254307150840759),\n",
       " ('branching', 0.42506954073905945),\n",
       " ('ethylene-hexene', 0.42419344186782837),\n",
       " ('^+', 0.4228651523590088),\n",
       " ('Graphical', 0.42262572050094604)]"
      ]
     },
     "execution_count": 6,
     "metadata": {},
     "output_type": "execute_result"
    }
   ],
   "source": [
    "model.wv.most_similar('metallocene', topn=100)"
   ]
  },
  {
   "cell_type": "code",
   "execution_count": null,
   "id": "e88b6beb",
   "metadata": {},
   "outputs": [],
   "source": []
  }
 ],
 "metadata": {
  "kernelspec": {
   "display_name": "Python 3 (ipykernel)",
   "language": "python",
   "name": "python3"
  },
  "language_info": {
   "codemirror_mode": {
    "name": "ipython",
    "version": 3
   },
   "file_extension": ".py",
   "mimetype": "text/x-python",
   "name": "python",
   "nbconvert_exporter": "python",
   "pygments_lexer": "ipython3",
   "version": "3.10.6"
  }
 },
 "nbformat": 4,
 "nbformat_minor": 5
}
