{
 "cells": [
  {
   "cell_type": "code",
   "execution_count": null,
   "id": "50c17e50",
   "metadata": {},
   "outputs": [],
   "source": [
    "# August M.\n",
    "# REU 2023"
   ]
  },
  {
   "cell_type": "code",
   "execution_count": 1,
   "id": "5edd000f",
   "metadata": {
    "scrolled": false
   },
   "outputs": [
    {
     "name": "stdout",
     "output_type": "stream",
     "text": [
      "Requirement already satisfied: nltk in c:\\users\\owner\\appdata\\local\\programs\\python\\python311\\lib\\site-packages (3.8.1)\n",
      "Requirement already satisfied: click in c:\\users\\owner\\appdata\\local\\programs\\python\\python311\\lib\\site-packages (from nltk) (8.1.5)\n",
      "Requirement already satisfied: joblib in c:\\users\\owner\\appdata\\local\\programs\\python\\python311\\lib\\site-packages\\joblib-1.2.0-py3.11.egg (from nltk) (1.2.0)\n",
      "Requirement already satisfied: regex>=2021.8.3 in c:\\users\\owner\\appdata\\local\\programs\\python\\python311\\lib\\site-packages (from nltk) (2023.6.3)\n",
      "Requirement already satisfied: tqdm in c:\\users\\owner\\appdata\\local\\programs\\python\\python311\\lib\\site-packages\\tqdm-4.65.0-py3.11.egg (from nltk) (4.65.0)\n",
      "Requirement already satisfied: colorama in c:\\users\\owner\\appdata\\local\\programs\\python\\python311\\lib\\site-packages (from click->nltk) (0.4.6)\n",
      "Note: you may need to restart the kernel to use updated packages.\n"
     ]
    },
    {
     "name": "stderr",
     "output_type": "stream",
     "text": [
      "DEPRECATION: Loading egg at c:\\users\\owner\\appdata\\local\\programs\\python\\python311\\lib\\site-packages\\deepctr-0.9.3-py3.11.egg is deprecated. pip 23.3 will enforce this behaviour change. A possible replacement is to use pip for package installation..\n",
      "DEPRECATION: Loading egg at c:\\users\\owner\\appdata\\local\\programs\\python\\python311\\lib\\site-packages\\fastdtw-0.3.4-py3.11.egg is deprecated. pip 23.3 will enforce this behaviour change. A possible replacement is to use pip for package installation..\n",
      "DEPRECATION: Loading egg at c:\\users\\owner\\appdata\\local\\programs\\python\\python311\\lib\\site-packages\\ge-0.0.0-py3.11.egg is deprecated. pip 23.3 will enforce this behaviour change. A possible replacement is to use pip for package installation..\n",
      "DEPRECATION: Loading egg at c:\\users\\owner\\appdata\\local\\programs\\python\\python311\\lib\\site-packages\\gensim-4.3.1-py3.11-win-amd64.egg is deprecated. pip 23.3 will enforce this behaviour change. A possible replacement is to use pip for package installation..\n",
      "DEPRECATION: Loading egg at c:\\users\\owner\\appdata\\local\\programs\\python\\python311\\lib\\site-packages\\joblib-1.2.0-py3.11.egg is deprecated. pip 23.3 will enforce this behaviour change. A possible replacement is to use pip for package installation..\n",
      "DEPRECATION: Loading egg at c:\\users\\owner\\appdata\\local\\programs\\python\\python311\\lib\\site-packages\\matplotlib-3.7.1-py3.11-win-amd64.egg is deprecated. pip 23.3 will enforce this behaviour change. A possible replacement is to use pip for package installation..\n",
      "DEPRECATION: Loading egg at c:\\users\\owner\\appdata\\local\\programs\\python\\python311\\lib\\site-packages\\networkx-3.1-py3.11.egg is deprecated. pip 23.3 will enforce this behaviour change. A possible replacement is to use pip for package installation..\n",
      "DEPRECATION: Loading egg at c:\\users\\owner\\appdata\\local\\programs\\python\\python311\\lib\\site-packages\\pandas-2.0.2-py3.11-win-amd64.egg is deprecated. pip 23.3 will enforce this behaviour change. A possible replacement is to use pip for package installation..\n",
      "DEPRECATION: Loading egg at c:\\users\\owner\\appdata\\local\\programs\\python\\python311\\lib\\site-packages\\scikit_learn-1.3.0rc1-py3.11-win-amd64.egg is deprecated. pip 23.3 will enforce this behaviour change. A possible replacement is to use pip for package installation..\n",
      "DEPRECATION: Loading egg at c:\\users\\owner\\appdata\\local\\programs\\python\\python311\\lib\\site-packages\\tqdm-4.65.0-py3.11.egg is deprecated. pip 23.3 will enforce this behaviour change. A possible replacement is to use pip for package installation..\n"
     ]
    },
    {
     "name": "stdout",
     "output_type": "stream",
     "text": [
      "Requirement already satisfied: gensim in c:\\users\\owner\\appdata\\local\\programs\\python\\python311\\lib\\site-packages\\gensim-4.3.1-py3.11-win-amd64.egg (4.3.1)\n",
      "Requirement already satisfied: numpy>=1.18.5 in c:\\users\\owner\\appdata\\local\\programs\\python\\python311\\lib\\site-packages (from gensim) (1.23.5)\n",
      "Requirement already satisfied: scipy>=1.7.0 in c:\\users\\owner\\appdata\\local\\programs\\python\\python311\\lib\\site-packages (from gensim) (1.11.0)\n",
      "Requirement already satisfied: smart-open>=1.8.1 in c:\\users\\owner\\appdata\\local\\programs\\python\\python311\\lib\\site-packages (from gensim) (6.3.0)\n",
      "Note: you may need to restart the kernel to use updated packages.\n"
     ]
    },
    {
     "name": "stderr",
     "output_type": "stream",
     "text": [
      "DEPRECATION: Loading egg at c:\\users\\owner\\appdata\\local\\programs\\python\\python311\\lib\\site-packages\\deepctr-0.9.3-py3.11.egg is deprecated. pip 23.3 will enforce this behaviour change. A possible replacement is to use pip for package installation..\n",
      "DEPRECATION: Loading egg at c:\\users\\owner\\appdata\\local\\programs\\python\\python311\\lib\\site-packages\\fastdtw-0.3.4-py3.11.egg is deprecated. pip 23.3 will enforce this behaviour change. A possible replacement is to use pip for package installation..\n",
      "DEPRECATION: Loading egg at c:\\users\\owner\\appdata\\local\\programs\\python\\python311\\lib\\site-packages\\ge-0.0.0-py3.11.egg is deprecated. pip 23.3 will enforce this behaviour change. A possible replacement is to use pip for package installation..\n",
      "DEPRECATION: Loading egg at c:\\users\\owner\\appdata\\local\\programs\\python\\python311\\lib\\site-packages\\gensim-4.3.1-py3.11-win-amd64.egg is deprecated. pip 23.3 will enforce this behaviour change. A possible replacement is to use pip for package installation..\n",
      "DEPRECATION: Loading egg at c:\\users\\owner\\appdata\\local\\programs\\python\\python311\\lib\\site-packages\\joblib-1.2.0-py3.11.egg is deprecated. pip 23.3 will enforce this behaviour change. A possible replacement is to use pip for package installation..\n",
      "DEPRECATION: Loading egg at c:\\users\\owner\\appdata\\local\\programs\\python\\python311\\lib\\site-packages\\matplotlib-3.7.1-py3.11-win-amd64.egg is deprecated. pip 23.3 will enforce this behaviour change. A possible replacement is to use pip for package installation..\n",
      "DEPRECATION: Loading egg at c:\\users\\owner\\appdata\\local\\programs\\python\\python311\\lib\\site-packages\\networkx-3.1-py3.11.egg is deprecated. pip 23.3 will enforce this behaviour change. A possible replacement is to use pip for package installation..\n",
      "DEPRECATION: Loading egg at c:\\users\\owner\\appdata\\local\\programs\\python\\python311\\lib\\site-packages\\pandas-2.0.2-py3.11-win-amd64.egg is deprecated. pip 23.3 will enforce this behaviour change. A possible replacement is to use pip for package installation..\n",
      "DEPRECATION: Loading egg at c:\\users\\owner\\appdata\\local\\programs\\python\\python311\\lib\\site-packages\\scikit_learn-1.3.0rc1-py3.11-win-amd64.egg is deprecated. pip 23.3 will enforce this behaviour change. A possible replacement is to use pip for package installation..\n",
      "DEPRECATION: Loading egg at c:\\users\\owner\\appdata\\local\\programs\\python\\python311\\lib\\site-packages\\tqdm-4.65.0-py3.11.egg is deprecated. pip 23.3 will enforce this behaviour change. A possible replacement is to use pip for package installation..\n"
     ]
    }
   ],
   "source": [
    "%pip install nltk\n",
    "%pip install gensim"
   ]
  },
  {
   "cell_type": "code",
   "execution_count": 2,
   "id": "7126eb34",
   "metadata": {
    "scrolled": true
   },
   "outputs": [
    {
     "name": "stderr",
     "output_type": "stream",
     "text": [
      "[nltk_data] Downloading package punkt to\n",
      "[nltk_data]     C:\\Users\\Owner\\AppData\\Roaming\\nltk_data...\n",
      "[nltk_data]   Package punkt is already up-to-date!\n",
      "[nltk_data] Downloading package stopwords to\n",
      "[nltk_data]     C:\\Users\\Owner\\AppData\\Roaming\\nltk_data...\n",
      "[nltk_data]   Package stopwords is already up-to-date!\n"
     ]
    }
   ],
   "source": [
    "import nltk\n",
    "nltk.download('punkt')\n",
    "import gensim \n",
    "from nltk import sent_tokenize\n",
    "from nltk import word_tokenize"
   ]
  },
  {
   "cell_type": "code",
   "execution_count": 3,
   "id": "e32b8f28",
   "metadata": {
    "scrolled": false
   },
   "outputs": [],
   "source": [
    "# StopWords Version\n",
    "from nltk.corpus import stopwords\n",
    "nltk.download('stopwords')\n",
    "stop = stopwords.words('english')\n",
    "new_stopwords = [\"the\", \"is\", \"a\", \"to\", \"in\", \"of\", \"with\", \"thus\", \".\", \",\"]\n",
    "stop.extend(new_stopwords)\n",
    "\n",
    "with open ('./Abstracts.txt') as fin:\n",
    "    temp = [word_tokenize(sent) for sent in fin]\n",
    "    tokens = []\n",
    "    for sent in temp:\n",
    "        filtered_sent = [word for word in sent if word.lower() not in stop]\n",
    "        tokens.append(filtered_sent)\n",
    "        \n",
    "# with open ('./Abstracts.txt') as fin:\n",
    "#     # Metallocene AND (polymer OR polymerization) = ~14,790 Abstracts\n",
    "#     tokens = [word_tokenize(sent) for sent in fin]"
   ]
  },
  {
   "cell_type": "code",
   "execution_count": 10,
   "id": "13e1dab8",
   "metadata": {
    "scrolled": true
   },
   "outputs": [
    {
     "name": "stdout",
     "output_type": "stream",
     "text": [
      "Training loss:  69293632.0\n"
     ]
    }
   ],
   "source": [
    "from gensim.models import Word2Vec\n",
    "model = gensim.models.Word2Vec(tokens, min_count=2, sg=1, vector_size=150, workers=10, window=10, epochs=100, compute_loss=True)\n",
    "loss = model.get_latest_training_loss()\n",
    "print(\"Training loss: \", loss)"
   ]
  },
  {
   "cell_type": "code",
   "execution_count": 13,
   "id": "df994ddc",
   "metadata": {
    "scrolled": false
   },
   "outputs": [
    {
     "name": "stdout",
     "output_type": "stream",
     "text": [
      "Word2Vec<vocab=17938, vector_size=150, alpha=0.025>\n"
     ]
    }
   ],
   "source": [
    "print(model)"
   ]
  },
  {
   "cell_type": "code",
   "execution_count": 59,
   "id": "d4462a15",
   "metadata": {},
   "outputs": [],
   "source": [
    "words = list(model.wv.index_to_key)"
   ]
  },
  {
   "cell_type": "code",
   "execution_count": 21,
   "id": "116a30de",
   "metadata": {
    "scrolled": true
   },
   "outputs": [
    {
     "name": "stdout",
     "output_type": "stream",
     "text": [
      "[('polymers', 0.5394288301467896), ('catalyst', 0.5337302088737488), ('catalysts', 0.5315822958946228), ('polyethylene', 0.512549102306366), ('single-site', 0.4795035719871521), ('structure', 0.4783797264099121), ('ethylene', 0.47579488158226013), ('heterogeneous', 0.4728325307369232), ('systems', 0.46883103251457214), ('homogeneous', 0.46804919838905334), ('2ZrCl2/MAO', 0.4658001959323883), ('olefin', 0.4620540738105774), ('based', 0.45837271213531494), ('supported', 0.45709624886512756), ('organobentonite', 0.45517298579216003), ('properties', 0.4516626298427582), ('also', 0.45083674788475037), ('Ziegler-Natta', 0.44552209973335266), ('zirconium', 0.4403161406517029), ('polyethylenes', 0.4393981099128723), ('_2ZrCl_2', 0.43812379240989685), ('Ind', 0.436499685049057), ('molecular', 0.4346841275691986), ('metallocenes', 0.4336162805557251), ('all-polymer', 0.43353304266929626), ('methylaluminoxane', 0.4296918511390686), ('Cp_2ZrCl_2', 0.4283990263938904), ('active', 0.42784401774406433), ('polymerization', 0.42695337533950806), ('inorganic', 0.42580360174179077), ('PUSHER', 0.4251427948474884), ('nBuCp', 0.4239083230495453), ('chains', 0.42295020818710327), ('MAO', 0.4229041337966919), ('synthesized', 0.42238616943359375), ('polypropylene', 0.42147254943847656), ('2-Me-4-Ph-Ind', 0.4205314517021179), ('cyclopentadienyl', 0.4193940758705139), ('non-aged', 0.41870787739753723), ('propylene', 0.4177824854850769), ('rac-', 0.41655686497688293), ('reviewed', 0.41486856341362), ('CPA', 0.41341841220855713), ('bridged', 0.4131257236003876), ('polyolefin', 0.4121997058391571), ('isospecific', 0.41210153698921204), ('organic', 0.4119105637073517), ('materials', 0.411432683467865), ('CPC', 0.4112704396247864), ('ligand', 0.4093758463859558)]\n"
     ]
    }
   ],
   "source": [
    "print(model.wv.most_similar(positive=['polymer', 'metallocene'], topn=50))"
   ]
  },
  {
   "cell_type": "code",
   "execution_count": 14,
   "id": "4096eebd",
   "metadata": {
    "scrolled": true
   },
   "outputs": [
    {
     "data": {
      "text/plain": [
       "[('catalysts', 0.6207141280174255),\n",
       " ('catalyst', 0.5828080773353577),\n",
       " ('methylaluminoxane', 0.537347674369812),\n",
       " ('_2ZrCl_2', 0.5319738984107971),\n",
       " ('zirconium', 0.5313365459442139),\n",
       " ('ethylene', 0.5285409092903137),\n",
       " ('metallocenes', 0.5251659154891968),\n",
       " ('polyethylene', 0.5163838863372803),\n",
       " ('single-site', 0.5044838190078735),\n",
       " ('supported', 0.4992057681083679),\n",
       " ('olefin', 0.4978947341442108),\n",
       " ('MAO', 0.49716293811798096),\n",
       " ('polyethylenes', 0.49650973081588745),\n",
       " ('dichloride', 0.4960683584213257),\n",
       " ('Ind', 0.49512287974357605),\n",
       " ('Ziegler-Natta', 0.4930010437965393),\n",
       " ('cyclopentadienyl', 0.4925299286842346),\n",
       " ('Cp_2ZrCl_2', 0.4920416474342346),\n",
       " ('catalyzed', 0.4904475808143616),\n",
       " ('methylalumoxane', 0.48783883452415466),\n",
       " ('zirconocene', 0.4825575053691864),\n",
       " ('Ziegler–Natta', 0.48248565196990967),\n",
       " ('n-BuCp', 0.4809577465057373),\n",
       " ('X=Cl', 0.47684165835380554),\n",
       " ('complexes', 0.4714922308921814),\n",
       " ('Metallocene', 0.470803439617157),\n",
       " ('rac-', 0.46960410475730896),\n",
       " ('propene', 0.46717116236686707),\n",
       " ('Zr', 0.4660215377807617),\n",
       " ('systems', 0.46334585547447205),\n",
       " ('2-Me-4-Ph-Ind', 0.46257057785987854),\n",
       " ('_2Si', 0.46097707748413086),\n",
       " ('bridged', 0.4558960795402527),\n",
       " ('CPC', 0.45447465777397156),\n",
       " ('2ZrCl2/MAO', 0.4534752368927002),\n",
       " ('dichlorides', 0.4530542194843292),\n",
       " ('propylene', 0.45167165994644165),\n",
       " ('catalytic', 0.44850215315818787),\n",
       " ('ansa-metallocene', 0.4480471611022949),\n",
       " ('Cp', 0.4476437568664551),\n",
       " ('rac-Me2Si', 0.4427463710308075),\n",
       " ('PE/g', 0.4416651725769043),\n",
       " ('cocatalyst', 0.440500944852829),\n",
       " ('isospecific', 0.43924689292907715),\n",
       " ('indenyl', 0.43890464305877686),\n",
       " ('/clay', 0.43885669112205505),\n",
       " ('unbridged', 0.43565258383750916),\n",
       " ('syndiospecific', 0.43448972702026367),\n",
       " ('Ph', 0.433864027261734),\n",
       " ('pincer', 0.4318075478076935),\n",
       " ('ansa-zirconocene', 0.43155637383461),\n",
       " ('Me_2Si', 0.43152058124542236),\n",
       " ('cat', 0.4312633275985718),\n",
       " ('homogeneous', 0.42927858233451843),\n",
       " ('Ph2C', 0.42790666222572327),\n",
       " ('bis-cyclopentadienyl', 0.42711466550827026),\n",
       " ('silica-supported', 0.4267318844795227),\n",
       " ('ligands', 0.4249131679534912),\n",
       " ('ansa', 0.4241368770599365),\n",
       " ('alkylidene', 0.4226940870285034),\n",
       " ('phenoxyimine', 0.4193320572376251),\n",
       " ('2ZrCl2', 0.4187025725841522),\n",
       " ('-Me_2Si', 0.4184211194515228),\n",
       " ('RCp', 0.4173813760280609),\n",
       " ('(', 0.4126318097114563),\n",
       " ('CpZr', 0.41205283999443054),\n",
       " (')', 0.411306232213974),\n",
       " ('ZrCl_2', 0.41056370735168457),\n",
       " ('MgCl_2-supported', 0.40963858366012573),\n",
       " ('late-transition', 0.40849411487579346),\n",
       " ('NMe_2', 0.4084002375602722),\n",
       " ('Et', 0.40818169713020325),\n",
       " ('nBuCp', 0.4068705439567566),\n",
       " ('PymNox', 0.4061028063297272),\n",
       " ('rac', 0.4053662419319153),\n",
       " ('postmetallocene', 0.4051315188407898),\n",
       " ('1,7-octadiene', 0.4045432209968567),\n",
       " ('Cp_2ZrCl_2/MAO', 0.4037797152996063),\n",
       " ('sulfated', 0.40369173884391785),\n",
       " ('SiO_2-supported', 0.40349143743515015),\n",
       " ('dysprosium', 0.4034304916858673),\n",
       " ('Phillips', 0.4032127261161804),\n",
       " ('Me2Si', 0.40211230516433716),\n",
       " ('ligand', 0.40189725160598755),\n",
       " ('heterogeneous', 0.40071213245391846),\n",
       " ('MCl2', 0.4001704454421997),\n",
       " ('post-metallocene', 0.4000185430049896),\n",
       " ('bis', 0.39978235960006714),\n",
       " ('active', 0.39967989921569824),\n",
       " ('heterogenized', 0.39795026183128357),\n",
       " ('titanium–magnesium', 0.3977442681789398),\n",
       " ('nonmetallocene', 0.3976629972457886),\n",
       " ('EPM', 0.3974614143371582),\n",
       " ('1-hexene', 0.39738729596138),\n",
       " ('2S', 0.39693745970726013),\n",
       " ('mPE-g-silane', 0.3949053883552551),\n",
       " ('titanium', 0.39421558380126953),\n",
       " ('vanadium', 0.39288970828056335),\n",
       " ('Z-N', 0.3922601342201233),\n",
       " ('ZrCl2', 0.3903835415840149)]"
      ]
     },
     "execution_count": 14,
     "metadata": {},
     "output_type": "execute_result"
    }
   ],
   "source": [
    "model.wv.most_similar('metallocene', topn=100)"
   ]
  },
  {
   "cell_type": "code",
   "execution_count": 25,
   "id": "1b384da3",
   "metadata": {
    "scrolled": true
   },
   "outputs": [],
   "source": [
    "model.wv.save('word2vec.bin')\n",
    "model.save('word2vec.model')\n",
    "model.wv.save_word2vec_format('word2vec')"
   ]
  }
 ],
 "metadata": {
  "kernelspec": {
   "display_name": "Python 3 (ipykernel)",
   "language": "python",
   "name": "python3"
  },
  "language_info": {
   "codemirror_mode": {
    "name": "ipython",
    "version": 3
   },
   "file_extension": ".py",
   "mimetype": "text/x-python",
   "name": "python",
   "nbconvert_exporter": "python",
   "pygments_lexer": "ipython3",
   "version": "3.11.4"
  }
 },
 "nbformat": 4,
 "nbformat_minor": 5
}
