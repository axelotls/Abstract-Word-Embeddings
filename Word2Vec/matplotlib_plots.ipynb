{
 "cells": [
  {
   "cell_type": "code",
   "execution_count": 2,
   "id": "64f6dea3",
   "metadata": {},
   "outputs": [],
   "source": [
    "import gensim\n",
    "# load word vectors\n",
    "word_vectors = gensim.models.Word2Vec.load(\"word2vec.model\")\n",
    "\n",
    "# create list of projection data\n",
    "# tuple (label, vector)\n",
    "labels = word_vectors.wv.index_to_key\n",
    "vectors = [word_vectors.wv[label] for label in labels]\n",
    "\n",
    "projection_data = [(label, vector) for label, vector in zip(labels, vectors)] "
   ]
  },
  {
   "cell_type": "code",
   "execution_count": 3,
   "id": "20d56e2a-8337-4d11-82d3-9a256af4b3aa",
   "metadata": {},
   "outputs": [],
   "source": [
    "#from arrange_data import get_avg_embedding_dict\n",
    "import pandas as pd\n",
    "import matplotlib.pyplot as plt\n",
    "import seaborn as sns\n",
    "import numpy as np\n"
   ]
  },
  {
   "cell_type": "code",
   "execution_count": 4,
   "id": "e3daedc0-f657-4f9e-9211-b16d814765c0",
   "metadata": {},
   "outputs": [
    {
     "name": "stderr",
     "output_type": "stream",
     "text": [
      "/home/august/.local/lib/python3.10/site-packages/umap/distances.py:1063: NumbaDeprecationWarning: \u001b[1mThe 'nopython' keyword argument was not supplied to the 'numba.jit' decorator. The implicit default value for this argument is currently False, but it will be changed to True in Numba 0.59.0. See https://numba.readthedocs.io/en/stable/reference/deprecation.html#deprecation-of-object-mode-fall-back-behaviour-when-using-jit for details.\u001b[0m\n",
      "  @numba.jit()\n",
      "/home/august/.local/lib/python3.10/site-packages/umap/distances.py:1071: NumbaDeprecationWarning: \u001b[1mThe 'nopython' keyword argument was not supplied to the 'numba.jit' decorator. The implicit default value for this argument is currently False, but it will be changed to True in Numba 0.59.0. See https://numba.readthedocs.io/en/stable/reference/deprecation.html#deprecation-of-object-mode-fall-back-behaviour-when-using-jit for details.\u001b[0m\n",
      "  @numba.jit()\n",
      "/home/august/.local/lib/python3.10/site-packages/umap/distances.py:1086: NumbaDeprecationWarning: \u001b[1mThe 'nopython' keyword argument was not supplied to the 'numba.jit' decorator. The implicit default value for this argument is currently False, but it will be changed to True in Numba 0.59.0. See https://numba.readthedocs.io/en/stable/reference/deprecation.html#deprecation-of-object-mode-fall-back-behaviour-when-using-jit for details.\u001b[0m\n",
      "  @numba.jit()\n",
      "/home/august/.local/lib/python3.10/site-packages/umap/umap_.py:660: NumbaDeprecationWarning: \u001b[1mThe 'nopython' keyword argument was not supplied to the 'numba.jit' decorator. The implicit default value for this argument is currently False, but it will be changed to True in Numba 0.59.0. See https://numba.readthedocs.io/en/stable/reference/deprecation.html#deprecation-of-object-mode-fall-back-behaviour-when-using-jit for details.\u001b[0m\n",
      "  @numba.jit()\n",
      "2023-08-01 16:55:44.760309: W tensorflow/stream_executor/platform/default/dso_loader.cc:64] Could not load dynamic library 'libcudart.so.11.0'; dlerror: libcudart.so.11.0: cannot open shared object file: No such file or directory\n",
      "2023-08-01 16:55:44.760334: I tensorflow/stream_executor/cuda/cudart_stub.cc:29] Ignore above cudart dlerror if you do not have a GPU set up on your machine.\n"
     ]
    }
   ],
   "source": [
    "import umap"
   ]
  },
  {
   "cell_type": "code",
   "execution_count": 50,
   "id": "8129ebdd-ac05-45f2-97b8-5e7b0e978c19",
   "metadata": {},
   "outputs": [],
   "source": [
    "\n",
    "catalyst_names = ['Cp2ZrCl2','Cp2HfCl2','Cp2TiCl2','EtInd2ZrCl2','(nBuCp)2ZrCl2','Me2Si(Ind)2ZrCl2','CpTi(OMe)3']\n",
    "activator_names = ['MAO','TIBA','TEA','TIBAO','MMAO','methylaluminoxane','triethylaluminum','triisobutylaluminum','Et3Al','AlEtCl2','AlEt2Cl','tris(pentafluorophenyl)borane', '[CPh3][B(C6F5)4]','CPh3B(C6F5)4','ethylaluminoxane','tetrachloroaluminate','tri-isobutylaluminum','methyl-aluminoxane','tetrakis(pentafluorophenyl)borane']\n",
    "monomer_names = ['propene', 'ethene', '1-butene', '1,7-octadiene', '1-hexene', '1-dodecene', '1-decene', '1-octene']\n",
    "\n",
    "\n",
    "substring_list = ['Zr','Hf','Ti']\n",
    "count = 0\n",
    "catalysts = []\n",
    "for word in word_vectors.wv.index_to_key:\n",
    "    if len(word) > 5:\n",
    "        if any(substring in word for substring in substring_list):\n",
    "            count += 1\n",
    "            catalyst_names.append(word)\n",
    "catalyst_names.remove(\"Tissue\")\n",
    "catalyst_names.remove(\"Titania\")\n",
    "catalyst_names.remove(\"Tighter\")\n",
    "\n",
    "\n",
    "chemicals = [catalyst.lower() for catalyst in catalyst_names] + [activator.lower() for activator in activator_names] + [monomer.lower() for monomer in monomer_names]\n",
    "lower_catalyst = [c.lower() for c in catalyst_names]\n",
    "lower_activator = [c.lower() for c in activator_names]\n",
    "lower_monomer = [c.lower() for c in monomer_names]"
   ]
  },
  {
   "cell_type": "code",
   "execution_count": 51,
   "id": "0c53b8db-bff9-42e2-a8ff-3871053ea23c",
   "metadata": {},
   "outputs": [],
   "source": [
    "embeddings_df = pd.DataFrame(vectors)\n",
    "embeddings_df.index = labels\n",
    "# embeddings_df = pd.read_hdf('data/scibertdata.h5', key='averaged_embeddings')"
   ]
  },
  {
   "cell_type": "code",
   "execution_count": null,
   "id": "db2a9566",
   "metadata": {},
   "outputs": [],
   "source": []
  },
  {
   "cell_type": "code",
   "execution_count": 52,
   "id": "ac78e43e-0dd8-4c6a-a916-e515acd1028f",
   "metadata": {},
   "outputs": [],
   "source": [
    "list_of_embeddings = embeddings_df.to_numpy()"
   ]
  },
  {
   "cell_type": "code",
   "execution_count": 53,
   "id": "9715fc17-c12b-4b23-8531-138e642594e7",
   "metadata": {},
   "outputs": [],
   "source": [
    "chemical_embeddings_df = embeddings_df.loc[[word in chemicals for word in labels]]"
   ]
  },
  {
   "cell_type": "code",
   "execution_count": 54,
   "id": "1fd247ab-6b20-4810-942b-cca7aeffcb7e",
   "metadata": {},
   "outputs": [],
   "source": [
    "chemical_embeddings = chemical_embeddings_df.to_numpy()"
   ]
  },
  {
   "cell_type": "code",
   "execution_count": 55,
   "id": "4cf18500-16a6-469d-925d-06e47f7b010c",
   "metadata": {},
   "outputs": [
    {
     "name": "stderr",
     "output_type": "stream",
     "text": [
      "/home/august/.local/lib/python3.10/site-packages/umap/umap_.py:2344: UserWarning: n_neighbors is larger than the dataset size; truncating to X.shape[0] - 1\n",
      "  warn(\n"
     ]
    }
   ],
   "source": [
    "# collapse embeddings to two dimensions\n",
    "reducer = umap.UMAP()\n",
    "reducer.fit(chemical_embeddings)\n",
    "umap_embedding = reducer.transform(chemical_embeddings)"
   ]
  },
  {
   "cell_type": "code",
   "execution_count": 56,
   "id": "167a151f-10ce-4fe8-a47c-4dad58269dca",
   "metadata": {
    "jupyter": {
     "outputs_hidden": true
    }
   },
   "outputs": [
    {
     "data": {
      "text/html": [
       "<div>\n",
       "<style scoped>\n",
       "    .dataframe tbody tr th:only-of-type {\n",
       "        vertical-align: middle;\n",
       "    }\n",
       "\n",
       "    .dataframe tbody tr th {\n",
       "        vertical-align: top;\n",
       "    }\n",
       "\n",
       "    .dataframe thead th {\n",
       "        text-align: right;\n",
       "    }\n",
       "</style>\n",
       "<table border=\"1\" class=\"dataframe\">\n",
       "  <thead>\n",
       "    <tr style=\"text-align: right;\">\n",
       "      <th></th>\n",
       "      <th>x</th>\n",
       "      <th>y</th>\n",
       "      <th>Word</th>\n",
       "    </tr>\n",
       "  </thead>\n",
       "  <tbody>\n",
       "    <tr>\n",
       "      <th>0</th>\n",
       "      <td>0.189117</td>\n",
       "      <td>8.785515</td>\n",
       "      <td>titanium</td>\n",
       "    </tr>\n",
       "    <tr>\n",
       "      <th>1</th>\n",
       "      <td>0.912797</td>\n",
       "      <td>9.114915</td>\n",
       "      <td>methylaluminoxane</td>\n",
       "    </tr>\n",
       "    <tr>\n",
       "      <th>2</th>\n",
       "      <td>1.711339</td>\n",
       "      <td>9.670378</td>\n",
       "      <td>1-hexene</td>\n",
       "    </tr>\n",
       "    <tr>\n",
       "      <th>3</th>\n",
       "      <td>2.403076</td>\n",
       "      <td>10.386322</td>\n",
       "      <td>propene</td>\n",
       "    </tr>\n",
       "    <tr>\n",
       "      <th>4</th>\n",
       "      <td>1.606103</td>\n",
       "      <td>10.982258</td>\n",
       "      <td>ethene</td>\n",
       "    </tr>\n",
       "    <tr>\n",
       "      <th>5</th>\n",
       "      <td>1.590861</td>\n",
       "      <td>10.219846</td>\n",
       "      <td>1-octene</td>\n",
       "    </tr>\n",
       "    <tr>\n",
       "      <th>6</th>\n",
       "      <td>0.064790</td>\n",
       "      <td>9.847069</td>\n",
       "      <td>triisobutylaluminum</td>\n",
       "    </tr>\n",
       "    <tr>\n",
       "      <th>7</th>\n",
       "      <td>-0.360122</td>\n",
       "      <td>9.259743</td>\n",
       "      <td>tea</td>\n",
       "    </tr>\n",
       "    <tr>\n",
       "      <th>8</th>\n",
       "      <td>0.420777</td>\n",
       "      <td>10.592972</td>\n",
       "      <td>1-decene</td>\n",
       "    </tr>\n",
       "    <tr>\n",
       "      <th>9</th>\n",
       "      <td>0.801869</td>\n",
       "      <td>9.841690</td>\n",
       "      <td>triethylaluminum</td>\n",
       "    </tr>\n",
       "    <tr>\n",
       "      <th>10</th>\n",
       "      <td>2.460813</td>\n",
       "      <td>9.433581</td>\n",
       "      <td>1,7-octadiene</td>\n",
       "    </tr>\n",
       "    <tr>\n",
       "      <th>11</th>\n",
       "      <td>1.800899</td>\n",
       "      <td>8.990648</td>\n",
       "      <td>1-butene</td>\n",
       "    </tr>\n",
       "  </tbody>\n",
       "</table>\n",
       "</div>"
      ],
      "text/plain": [
       "           x          y                 Word\n",
       "0   0.189117   8.785515             titanium\n",
       "1   0.912797   9.114915    methylaluminoxane\n",
       "2   1.711339   9.670378             1-hexene\n",
       "3   2.403076  10.386322              propene\n",
       "4   1.606103  10.982258               ethene\n",
       "5   1.590861  10.219846             1-octene\n",
       "6   0.064790   9.847069  triisobutylaluminum\n",
       "7  -0.360122   9.259743                  tea\n",
       "8   0.420777  10.592972             1-decene\n",
       "9   0.801869   9.841690     triethylaluminum\n",
       "10  2.460813   9.433581        1,7-octadiene\n",
       "11  1.800899   8.990648             1-butene"
      ]
     },
     "execution_count": 56,
     "metadata": {},
     "output_type": "execute_result"
    }
   ],
   "source": [
    "# put umap data into a new df\n",
    "new_df = pd.DataFrame(umap_embedding, columns=('x','y') )\n",
    "new_df['Word'] = list(chemical_embeddings_df.index)\n",
    "new_df = new_df.loc[[word in chemicals for word in new_df.Word]]\n",
    "new_df"
   ]
  },
  {
   "cell_type": "code",
   "execution_count": 57,
   "id": "d49a02a7-80d7-46e8-a55b-1d843fd09306",
   "metadata": {},
   "outputs": [],
   "source": [
    "r = [sns.color_palette(as_cmap=True)[3], sns.color_palette(as_cmap=True)[2], sns.color_palette(as_cmap=True)[0], sns.color_palette(as_cmap=True)[7]]"
   ]
  },
  {
   "cell_type": "code",
   "execution_count": 58,
   "id": "a67b2601-9152-43c0-b036-54e19de372e0",
   "metadata": {},
   "outputs": [],
   "source": [
    "colors = {'catalyst': r[0], 'monomer': r[1], 'activator': r[2]}\n",
    "chemical_type = ['catalyst' if c in lower_catalyst else 'monomer' if c in lower_monomer else 'activator' if c in lower_activator else 'idk' for c in new_df.Word]\n",
    "new_df['labels'] = chemical_type"
   ]
  },
  {
   "cell_type": "code",
   "execution_count": 68,
   "id": "fd253e7c-0e75-4830-a725-7934bf7129be",
   "metadata": {},
   "outputs": [
    {
     "data": {
      "image/png": "[encoded data removed]",
      "text/plain": [
       "<Figure size 1350x950 with 1 Axes>"
      ]
     },
     "metadata": {},
     "output_type": "display_data"
    }
   ],
   "source": [
    "fig, ax = plt.subplots()\n",
    "fig.set_size_inches(13.5, 9.5)\n",
    "plt.rcParams['font.size'] = 13\n",
    "for word in ['activator', 'catalyst', 'monomer']:\n",
    "    ax.scatter(new_df.loc[new_df.labels==word].x, new_df.loc[new_df.labels==word].y, c=colors[word], label=word)\n",
    "\n",
    "for i, txt in enumerate(new_df.Word):\n",
    "    ax.annotate(txt, (new_df.x[i], new_df.y[i]))\n",
    "\n",
    "ax.legend(loc=4)\n",
    "plt.savefig('W2V.png', dpi=600)"
   ]
  },
  {
   "cell_type": "code",
   "execution_count": null,
   "id": "0283428b",
   "metadata": {},
   "outputs": [],
   "source": []
  }
 ],
 "metadata": {
  "kernelspec": {
   "display_name": "Python 3 (ipykernel)",
   "language": "python",
   "name": "python3"
  },
  "language_info": {
   "codemirror_mode": {
    "name": "ipython",
    "version": 3
   },
   "file_extension": ".py",
   "mimetype": "text/x-python",
   "name": "python",
   "nbconvert_exporter": "python",
   "pygments_lexer": "ipython3",
   "version": "3.10.6"
  }
 },
 "nbformat": 4,
 "nbformat_minor": 5
}
