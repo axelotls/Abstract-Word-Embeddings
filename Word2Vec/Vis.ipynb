{
 "cells": [
  {
   "cell_type": "code",
   "execution_count": 1,
   "id": "75b04842",
   "metadata": {
    "scrolled": false
   },
   "outputs": [],
   "source": [
    "from gensim.models.keyedvectors import KeyedVectors\n",
    "\n",
    "# load word vectors\n",
    "word_vectors = KeyedVectors.load_word2vec_format(\n",
    "    'word2vec')\n",
    "\n",
    "# create list of projection data\n",
    "# tuple (label, vector)\n",
    "labels = word_vectors.index_to_key\n",
    "vectors = [word_vectors[label] for label in labels]\n",
    "\n",
    "projection_data = [(label, vector) for label, vector in zip(labels, vectors)]"
   ]
  },
  {
   "cell_type": "code",
   "execution_count": 2,
   "id": "e5e653a1",
   "metadata": {},
   "outputs": [
    {
     "name": "stderr",
     "output_type": "stream",
     "text": [
      "2023-07-25 12:14:17.388721: W tensorflow/stream_executor/platform/default/dso_loader.cc:64] Could not load dynamic library 'libcudart.so.11.0'; dlerror: libcudart.so.11.0: cannot open shared object file: No such file or directory\n",
      "2023-07-25 12:14:17.388783: I tensorflow/stream_executor/cuda/cudart_stub.cc:29] Ignore above cudart dlerror if you do not have a GPU set up on your machine.\n",
      "2023-07-25 12:14:43.951452: W tensorflow/stream_executor/platform/default/dso_loader.cc:64] Could not load dynamic library 'libcuda.so.1'; dlerror: libcuda.so.1: cannot open shared object file: No such file or directory\n",
      "2023-07-25 12:14:43.951519: W tensorflow/stream_executor/cuda/cuda_driver.cc:269] failed call to cuInit: UNKNOWN ERROR (303)\n",
      "2023-07-25 12:14:43.951568: I tensorflow/stream_executor/cuda/cuda_diagnostics.cc:156] kernel driver does not appear to be running on this host (august-OptiPlex-3040): /proc/driver/nvidia/version does not exist\n",
      "2023-07-25 12:14:43.961526: I tensorflow/core/platform/cpu_feature_guard.cc:151] This TensorFlow binary is optimized with oneAPI Deep Neural Network Library (oneDNN) to use the following CPU instructions in performance-critical operations:  AVX2 FMA\n",
      "To enable them in other operations, rebuild TensorFlow with the appropriate compiler flags.\n"
     ]
    }
   ],
   "source": [
    "import os\n",
    "import numpy as np\n",
    "import tensorflow as tf\n",
    "from tensorboard.plugins import projector\n",
    "\n",
    "def create_projection(projection_data, path='./tensorboard/'):\n",
    "    meta_file = 'metadata.tsv'\n",
    "    samples = len(projection_data)\n",
    "    vector_dim = len(projection_data[0][1])\n",
    "    projection_matrix = np.zeros((samples, vector_dim))\n",
    "\n",
    "    # write meta file with labels, create projection_matrix\n",
    "    with open(os.path.join(path, meta_file), 'w') as f:\n",
    "        for i, row in enumerate(projection_data):\n",
    "            label, vector = row[0], row[1]\n",
    "            projection_matrix[i] = vector\n",
    "            f.write(f\"{label}\\n\")\n",
    "\n",
    "    weights = tf.Variable(\n",
    "        projection_matrix, trainable=False, name='word_embeddings'\n",
    "    )\n",
    "\n",
    "    checkpoint = tf.train.Checkpoint(embedding=weights)\n",
    "    checkpoint.save(os.path.join(path, \"embedding.ckpt\"))\n",
    "    writer = tf.summary.create_file_writer(path)\n",
    "    \n",
    "    config = projector.ProjectorConfig()\n",
    "    embedding = config.embeddings.add()\n",
    "    embedding.tensor_name = \"embedding/.ATTRIBUTES/VARIABLE_VALUE\"\n",
    "    embedding.metadata_path = meta_file\n",
    "    projector.visualize_embeddings(path, config)\n",
    "\n",
    "create_projection(projection_data)"
   ]
  },
  {
   "cell_type": "code",
   "execution_count": 4,
   "id": "d3ab0cb9",
   "metadata": {
    "scrolled": false
   },
   "outputs": [
    {
     "name": "stdout",
     "output_type": "stream",
     "text": [
      "The tensorboard extension is already loaded. To reload it, use:\n",
      "  %reload_ext tensorboard\n"
     ]
    },
    {
     "data": {
      "text/plain": [
       "Reusing TensorBoard on port 6006 (pid 4701), started 0:00:26 ago. (Use '!kill 4701' to kill it.)"
      ]
     },
     "metadata": {},
     "output_type": "display_data"
    },
    {
     "data": {
      "text/html": [
       "\n",
       "      <iframe id=\"tensorboard-frame-e2aa137e5f137ba6\" width=\"100%\" height=\"800\" frameborder=\"0\">\n",
       "      </iframe>\n",
       "      <script>\n",
       "        (function() {\n",
       "          const frame = document.getElementById(\"tensorboard-frame-e2aa137e5f137ba6\");\n",
       "          const url = new URL(\"/\", window.location);\n",
       "          const port = 6006;\n",
       "          if (port) {\n",
       "            url.port = port;\n",
       "          }\n",
       "          frame.src = url;\n",
       "        })();\n",
       "      </script>\n",
       "    "
      ],
      "text/plain": [
       "<IPython.core.display.HTML object>"
      ]
     },
     "metadata": {},
     "output_type": "display_data"
    }
   ],
   "source": [
    "%load_ext tensorboard\n",
    "%tensorboard --logdir=\"./tensorboard/\""
   ]
  },
  {
   "cell_type": "code",
   "execution_count": null,
   "id": "355932e7",
   "metadata": {},
   "outputs": [],
   "source": []
  }
 ],
 "metadata": {
  "kernelspec": {
   "display_name": "Python 3 (ipykernel)",
   "language": "python",
   "name": "python3"
  },
  "language_info": {
   "codemirror_mode": {
    "name": "ipython",
    "version": 3
   },
   "file_extension": ".py",
   "mimetype": "text/x-python",
   "name": "python",
   "nbconvert_exporter": "python",
   "pygments_lexer": "ipython3",
   "version": "3.10.6"
  }
 },
 "nbformat": 4,
 "nbformat_minor": 5
}
