{
 "cells": [
  {
   "cell_type": "code",
   "execution_count": 14,
   "id": "75b04842",
   "metadata": {},
   "outputs": [],
   "source": [
    "from gensim.models.keyedvectors import KeyedVectors\n",
    "\n",
    "# load word vectors\n",
    "word_vectors = KeyedVectors.load_word2vec_format(\n",
    "    'word2vec')\n",
    "\n",
    "# create list of projection data\n",
    "# tuple (label, vector)\n",
    "labels = word_vectors.index_to_key\n",
    "vectors = [word_vectors[label] for label in labels]\n",
    "\n",
    "projection_data = [(label, vector) for label, vector in zip(labels, vectors)]"
   ]
  },
  {
   "cell_type": "code",
   "execution_count": 15,
   "id": "e5e653a1",
   "metadata": {},
   "outputs": [],
   "source": [
    "import os\n",
    "import numpy as np\n",
    "import tensorflow as tf\n",
    "from tensorboard.plugins import projector\n",
    "\n",
    "def create_projection(projection_data, path='./logs/vocab'):\n",
    "    meta_file = 'metadata.tsv'\n",
    "    samples = len(projection_data)\n",
    "    vector_dim = len(projection_data[0][1])\n",
    "    projection_matrix = np.zeros((samples, vector_dim))\n",
    "\n",
    "    # write meta file with labels, create projection_matrix\n",
    "    with open(os.path.join(path, meta_file), 'w') as f:\n",
    "        for i, row in enumerate(projection_data):\n",
    "            label, vector = row[0], row[1]\n",
    "            projection_matrix[i] = vector\n",
    "            f.write(f\"{label}\\n\")\n",
    "\n",
    "    weights = tf.Variable(\n",
    "        projection_matrix, trainable=False, name='word_embeddings'\n",
    "    )\n",
    "\n",
    "    checkpoint = tf.train.Checkpoint(embedding=weights)\n",
    "    checkpoint.save(os.path.join(path, \"embedding.ckpt\"))\n",
    "    \n",
    "    config = projector.ProjectorConfig()\n",
    "    embedding = config.embeddings.add()\n",
    "    embedding.tensor_name = \"embedding/.ATTRIBUTES/VARIABLE_VALUE\"\n",
    "    embedding.metadata_path = meta_file\n",
    "    projector.visualize_embeddings(path, config)\n",
    "\n",
    "create_projection(projection_data)"
   ]
  },
  {
   "cell_type": "code",
   "execution_count": 16,
   "id": "d3ab0cb9",
   "metadata": {},
   "outputs": [
    {
     "data": {
      "text/plain": [
       "Reusing TensorBoard on port 6006 (pid 20440), started 1 day, 2:19:49 ago. (Use '!kill 20440' to kill it.)"
      ]
     },
     "metadata": {},
     "output_type": "display_data"
    },
    {
     "data": {
      "text/html": [
       "\n",
       "      <iframe id=\"tensorboard-frame-77150ae4c6c9021\" width=\"100%\" height=\"800\" frameborder=\"0\">\n",
       "      </iframe>\n",
       "      <script>\n",
       "        (function() {\n",
       "          const frame = document.getElementById(\"tensorboard-frame-77150ae4c6c9021\");\n",
       "          const url = new URL(\"/\", window.location);\n",
       "          const port = 6006;\n",
       "          if (port) {\n",
       "            url.port = port;\n",
       "          }\n",
       "          frame.src = url;\n",
       "        })();\n",
       "      </script>\n",
       "    "
      ],
      "text/plain": [
       "<IPython.core.display.HTML object>"
      ]
     },
     "metadata": {},
     "output_type": "display_data"
    }
   ],
   "source": [
    "%load_ext tensorboard\n",
    "%tensorboard --logdir=\"./tensorboard/\""
   ]
  },
  {
   "cell_type": "code",
   "execution_count": null,
   "id": "355932e7",
   "metadata": {},
   "outputs": [],
   "source": []
  }
 ],
 "metadata": {
  "kernelspec": {
   "display_name": "Python 3 (ipykernel)",
   "language": "python",
   "name": "python3"
  },
  "language_info": {
   "codemirror_mode": {
    "name": "ipython",
    "version": 3
   },
   "file_extension": ".py",
   "mimetype": "text/x-python",
   "name": "python",
   "nbconvert_exporter": "python",
   "pygments_lexer": "ipython3",
   "version": "3.11.4"
  }
 },
 "nbformat": 4,
 "nbformat_minor": 5
}
