{
 "cells": [
  {
   "cell_type": "code",
   "execution_count": 148,
   "id": "75b04842",
   "metadata": {
    "scrolled": false
   },
   "outputs": [],
   "source": [
    "import gensim\n",
    "# load word vectors\n",
    "word_vectors = gensim.models.Word2Vec.load(\"word2vec.model\")\n",
    "\n",
    "# create list of projection data\n",
    "# tuple (label, vector)\n",
    "labels = word_vectors.wv.index_to_key\n",
    "vectors = [word_vectors.wv[label] for label in labels]\n",
    "\n",
    "projection_data = [(label, vector) for label, vector in zip(labels, vectors)]"
   ]
  },
  {
   "cell_type": "code",
   "execution_count": 166,
   "id": "e5e653a1",
   "metadata": {},
   "outputs": [],
   "source": [
    "import os\n",
    "import numpy as np\n",
    "import tensorflow as tf\n",
    "from tensorboard.plugins import projector\n",
    "\n",
    "def create_projection(projection_data, path='./tensorboard/'):\n",
    "    meta_file = 'metadata.tsv'\n",
    "    samples = len(projection_data)\n",
    "    vector_dim = len(projection_data[0][1])\n",
    "    projection_matrix = np.zeros((samples, vector_dim))\n",
    "\n",
    "    # write meta file with labels, create projection_matrix\n",
    "    with open(os.path.join(path, meta_file), 'w') as f:\n",
    "        for i, row in enumerate(projection_data):\n",
    "            label, vector = row[0], row[1]\n",
    "            projection_matrix[i] = vector\n",
    "            f.write(f\"{label}\\n\")\n",
    "\n",
    "    weights = tf.Variable(\n",
    "        projection_matrix, trainable=False, name='word_embeddings'\n",
    "    )\n",
    "\n",
    "    checkpoint = tf.train.Checkpoint(embedding=weights)\n",
    "    checkpoint.save(os.path.join(path, \"embedding.ckpt\"))\n",
    "    writer = tf.summary.create_file_writer(path)\n",
    "    \n",
    "    config = projector.ProjectorConfig()\n",
    "    embedding = config.embeddings.add()\n",
    "    embedding.tensor_name = \"embedding/.ATTRIBUTES/VARIABLE_VALUE\"\n",
    "    embedding.metadata_path = meta_file\n",
    "    projector.visualize_embeddings(path, config)\n",
    "\n",
    "create_projection(projection_data)"
   ]
  },
  {
   "cell_type": "code",
   "execution_count": 167,
   "id": "d3ab0cb9",
   "metadata": {
    "scrolled": false
   },
   "outputs": [
    {
     "name": "stdout",
     "output_type": "stream",
     "text": [
      "The tensorboard extension is already loaded. To reload it, use:\n",
      "  %reload_ext tensorboard\n"
     ]
    },
    {
     "data": {
      "text/plain": [
       "Reusing TensorBoard on port 6006 (pid 14325), started 0:00:04 ago. (Use '!kill 14325' to kill it.)"
      ]
     },
     "metadata": {},
     "output_type": "display_data"
    },
    {
     "data": {
      "text/html": [
       "\n",
       "      <iframe id=\"tensorboard-frame-f77d3918bafca19a\" width=\"100%\" height=\"800\" frameborder=\"0\">\n",
       "      </iframe>\n",
       "      <script>\n",
       "        (function() {\n",
       "          const frame = document.getElementById(\"tensorboard-frame-f77d3918bafca19a\");\n",
       "          const url = new URL(\"/\", window.location);\n",
       "          const port = 6006;\n",
       "          if (port) {\n",
       "            url.port = port;\n",
       "          }\n",
       "          frame.src = url;\n",
       "        })();\n",
       "      </script>\n",
       "    "
      ],
      "text/plain": [
       "<IPython.core.display.HTML object>"
      ]
     },
     "metadata": {},
     "output_type": "display_data"
    }
   ],
   "source": [
    "%load_ext tensorboard\n",
    "%tensorboard --logdir=\"./tensorboard/\""
   ]
  },
  {
   "cell_type": "code",
   "execution_count": 133,
   "id": "5052b408",
   "metadata": {},
   "outputs": [
    {
     "name": "stdout",
     "output_type": "stream",
     "text": [
      "Defaulting to user installation because normal site-packages is not writeable\n",
      "Requirement already satisfied: umap in /home/august/.local/lib/python3.10/site-packages (0.1.1)\n",
      "Note: you may need to restart the kernel to use updated packages.\n",
      "Defaulting to user installation because normal site-packages is not writeable\n",
      "Requirement already satisfied: bokeh in /home/august/.local/lib/python3.10/site-packages (3.1.1)\n",
      "Requirement already satisfied: contourpy>=1 in /home/august/.local/lib/python3.10/site-packages (from bokeh) (1.0.7)\n",
      "Requirement already satisfied: numpy>=1.16 in /home/august/.local/lib/python3.10/site-packages (from bokeh) (1.23.5)\n",
      "Requirement already satisfied: xyzservices>=2021.09.1 in /home/august/.local/lib/python3.10/site-packages (from bokeh) (2023.5.0)\n",
      "Requirement already satisfied: packaging>=16.8 in /usr/lib/python3/dist-packages (from bokeh) (21.3)\n",
      "Requirement already satisfied: PyYAML>=3.10 in /usr/lib/python3/dist-packages (from bokeh) (5.4.1)\n",
      "Requirement already satisfied: pandas>=1.2 in /home/august/.local/lib/python3.10/site-packages (from bokeh) (2.0.2)\n",
      "Requirement already satisfied: Jinja2>=2.9 in /home/august/.local/lib/python3.10/site-packages (from bokeh) (3.1.2)\n",
      "Requirement already satisfied: pillow>=7.1.0 in /home/august/.local/lib/python3.10/site-packages (from bokeh) (9.5.0)\n",
      "Requirement already satisfied: tornado>=5.1 in /home/august/.local/lib/python3.10/site-packages (from bokeh) (6.3.2)\n",
      "Requirement already satisfied: MarkupSafe>=2.0 in /home/august/.local/lib/python3.10/site-packages (from Jinja2>=2.9->bokeh) (2.1.3)\n",
      "Requirement already satisfied: tzdata>=2022.1 in /home/august/.local/lib/python3.10/site-packages (from pandas>=1.2->bokeh) (2023.3)\n",
      "Requirement already satisfied: pytz>=2020.1 in /home/august/.local/lib/python3.10/site-packages (from pandas>=1.2->bokeh) (2023.3)\n",
      "Requirement already satisfied: python-dateutil>=2.8.2 in /home/august/.local/lib/python3.10/site-packages (from pandas>=1.2->bokeh) (2.8.2)\n",
      "Requirement already satisfied: six>=1.5 in /usr/lib/python3/dist-packages (from python-dateutil>=2.8.2->pandas>=1.2->bokeh) (1.16.0)\n",
      "Note: you may need to restart the kernel to use updated packages.\n",
      "Defaulting to user installation because normal site-packages is not writeable\n",
      "Requirement already satisfied: pandas in /home/august/.local/lib/python3.10/site-packages (2.0.2)\n",
      "Requirement already satisfied: pytz>=2020.1 in /home/august/.local/lib/python3.10/site-packages (from pandas) (2023.3)\n",
      "Requirement already satisfied: tzdata>=2022.1 in /home/august/.local/lib/python3.10/site-packages (from pandas) (2023.3)\n",
      "Requirement already satisfied: numpy>=1.21.0 in /home/august/.local/lib/python3.10/site-packages (from pandas) (1.23.5)\n",
      "Requirement already satisfied: python-dateutil>=2.8.2 in /home/august/.local/lib/python3.10/site-packages (from pandas) (2.8.2)\n",
      "Requirement already satisfied: six>=1.5 in /usr/lib/python3/dist-packages (from python-dateutil>=2.8.2->pandas) (1.16.0)\n",
      "Note: you may need to restart the kernel to use updated packages.\n",
      "Defaulting to user installation because normal site-packages is not writeable\n",
      "Requirement already satisfied: umap-learn in /home/august/.local/lib/python3.10/site-packages (0.5.3)\n",
      "Requirement already satisfied: scipy>=1.0 in /home/august/.local/lib/python3.10/site-packages (from umap-learn) (1.10.1)\n",
      "Requirement already satisfied: scikit-learn>=0.22 in /home/august/.local/lib/python3.10/site-packages (from umap-learn) (1.2.2)\n",
      "Requirement already satisfied: numpy>=1.17 in /home/august/.local/lib/python3.10/site-packages (from umap-learn) (1.23.5)\n",
      "Requirement already satisfied: pynndescent>=0.5 in /home/august/.local/lib/python3.10/site-packages (from umap-learn) (0.5.10)\n",
      "Requirement already satisfied: numba>=0.49 in /home/august/.local/lib/python3.10/site-packages (from umap-learn) (0.57.1)\n",
      "Requirement already satisfied: tqdm in /home/august/.local/lib/python3.10/site-packages (from umap-learn) (4.65.0)\n",
      "Requirement already satisfied: llvmlite<0.41,>=0.40.0dev0 in /home/august/.local/lib/python3.10/site-packages (from numba>=0.49->umap-learn) (0.40.1)\n",
      "Requirement already satisfied: joblib>=0.11 in /home/august/.local/lib/python3.10/site-packages (from pynndescent>=0.5->umap-learn) (1.2.0)\n",
      "Requirement already satisfied: threadpoolctl>=2.0.0 in /home/august/.local/lib/python3.10/site-packages (from scikit-learn>=0.22->umap-learn) (3.1.0)\n",
      "Note: you may need to restart the kernel to use updated packages.\n"
     ]
    }
   ],
   "source": [
    "%pip install umap\n",
    "%pip install bokeh\n",
    "%pip install pandas\n",
    "%pip install umap-learn"
   ]
  },
  {
   "cell_type": "code",
   "execution_count": 149,
   "id": "355932e7",
   "metadata": {},
   "outputs": [],
   "source": [
    "import pandas as pd\n",
    "from bokeh.plotting import figure, show, output_file, save\n",
    "from bokeh.models import HoverTool, ColumnDataSource, CategoricalColorMapper\n",
    "from bokeh.palettes import Category20, Turbo256\n",
    "import umap\n",
    "from bokeh.models import Label\n",
    "from bokeh.models import ColumnDataSource, Label, LabelSet, Range1d\n",
    "from bokeh.plotting import figure, output_file, show"
   ]
  },
  {
   "cell_type": "code",
   "execution_count": 150,
   "id": "b0352bef",
   "metadata": {},
   "outputs": [],
   "source": [
    "def interactive_plot(umap_embedding_df, words_to_highlight=None, splits=None, fn=None):\n",
    "    datasource = ColumnDataSource(umap_embedding_df)\n",
    "    # define color mapping\n",
    "    palette = []\n",
    "    if words_to_highlight is not None:\n",
    "        if splits is None:\n",
    "            l = len(words_to_highlight)\n",
    "            if 256 > l > 20:\n",
    "                palette = [Turbo256[i] for i in range(0, 256, int(256/l))][:l]\n",
    "            elif l <= 20:\n",
    "                palette = Category20[l]\n",
    "                words_to_highlight = words_to_highlight[:l]\n",
    "            else:\n",
    "                print('too many words to highlight.')\n",
    "                return\n",
    "        else:\n",
    "            colors = Category20[20]\n",
    "            if len(splits) == 3:\n",
    "                colors = [Category20[20][6], Category20[20][0], Category20[20][4]]\n",
    "            palette = []\n",
    "            start = 0\n",
    "            for i, end in enumerate(splits):\n",
    "                palette.extend([colors[i]] * (end - start))\n",
    "                start = end\n",
    "\n",
    "\n",
    "    color_mapping = CategoricalColorMapper(factors=words_to_highlight, palette=palette)\n",
    "\n",
    "    plot_figure = figure(\n",
    "        title='UMAP projection of word embeddings',\n",
    "        # plot_width=600,\n",
    "        # plot_height=600,\n",
    "        tools=('pan, wheel_zoom, reset')\n",
    "    )\n",
    "\n",
    "    plot_figure.add_tools(HoverTool(tooltips=\"\"\"\n",
    "    <div>\n",
    "        <div>\n",
    "            <span style='font-size: 16px; color: #224499'>Word:</span>\n",
    "            <span style='font-size: 18px'>@Word</span>\n",
    "        </div>\n",
    "    </div>\n",
    "    \"\"\"))\n",
    "\n",
    "    if fn is not None:\n",
    "        output_file(filename=fn, title='UMAP projection of word embeddings')\n",
    "\n",
    "    plot_figure.circle(\n",
    "        'x',\n",
    "        'y',\n",
    "        source=datasource,\n",
    "        color=dict(field='Word', transform=color_mapping),\n",
    "        line_alpha=0.6,\n",
    "        fill_alpha=0.6,\n",
    "        size=7\n",
    "    )\n",
    "    if fn is not None:\n",
    "        save(plot_figure)\n",
    "        show(plot_figure)\n",
    "    else:\n",
    "        show(plot_figure)\n",
    "\n",
    "\n",
    "def generate_umap_embedding(labels, word_embeddings):\n",
    "\n",
    "    # collapse embeddings to two dimensions\n",
    "    reducer = umap.UMAP()\n",
    "    reducer.fit(word_embeddings)\n",
    "    umap_embedding = reducer.transform(word_embeddings)\n",
    "\n",
    "    # save data to csv\n",
    "    umap_df = pd.DataFrame(umap_embedding, columns=['x', 'y'])\n",
    "    umap_df['Word'] = labels\n",
    "    umap_df.index = labels\n",
    "\n",
    "    return umap_df"
   ]
  },
  {
   "cell_type": "code",
   "execution_count": 151,
   "id": "648824f2",
   "metadata": {},
   "outputs": [
    {
     "name": "stdout",
     "output_type": "stream",
     "text": [
      "Word2Vec<vocab=16927, vector_size=150, alpha=0.025>\n"
     ]
    }
   ],
   "source": [
    "print(word_vectors)"
   ]
  },
  {
   "cell_type": "code",
   "execution_count": 162,
   "id": "8d7c5b59",
   "metadata": {
    "scrolled": true
   },
   "outputs": [
    {
     "data": {
      "text/html": [
       "<div>\n",
       "<style scoped>\n",
       "    .dataframe tbody tr th:only-of-type {\n",
       "        vertical-align: middle;\n",
       "    }\n",
       "\n",
       "    .dataframe tbody tr th {\n",
       "        vertical-align: top;\n",
       "    }\n",
       "\n",
       "    .dataframe thead th {\n",
       "        text-align: right;\n",
       "    }\n",
       "</style>\n",
       "<table border=\"1\" class=\"dataframe\">\n",
       "  <thead>\n",
       "    <tr style=\"text-align: right;\">\n",
       "      <th></th>\n",
       "      <th>x</th>\n",
       "      <th>y</th>\n",
       "      <th>Word</th>\n",
       "    </tr>\n",
       "  </thead>\n",
       "  <tbody>\n",
       "    <tr>\n",
       "      <th>(</th>\n",
       "      <td>3.234301</td>\n",
       "      <td>2.652190</td>\n",
       "      <td>(</td>\n",
       "    </tr>\n",
       "    <tr>\n",
       "      <th>)</th>\n",
       "      <td>3.232558</td>\n",
       "      <td>2.471082</td>\n",
       "      <td>)</td>\n",
       "    </tr>\n",
       "    <tr>\n",
       "      <th>polymerization</th>\n",
       "      <td>2.711068</td>\n",
       "      <td>1.027165</td>\n",
       "      <td>polymerization</td>\n",
       "    </tr>\n",
       "    <tr>\n",
       "      <th>polymer</th>\n",
       "      <td>-0.141094</td>\n",
       "      <td>0.610811</td>\n",
       "      <td>polymer</td>\n",
       "    </tr>\n",
       "    <tr>\n",
       "      <th>properties</th>\n",
       "      <td>-1.087538</td>\n",
       "      <td>1.720496</td>\n",
       "      <td>properties</td>\n",
       "    </tr>\n",
       "    <tr>\n",
       "      <th>...</th>\n",
       "      <td>...</td>\n",
       "      <td>...</td>\n",
       "      <td>...</td>\n",
       "    </tr>\n",
       "    <tr>\n",
       "      <th>expansive</th>\n",
       "      <td>-0.369042</td>\n",
       "      <td>0.043179</td>\n",
       "      <td>expansive</td>\n",
       "    </tr>\n",
       "    <tr>\n",
       "      <th>pathology</th>\n",
       "      <td>-0.153758</td>\n",
       "      <td>-0.149799</td>\n",
       "      <td>pathology</td>\n",
       "    </tr>\n",
       "    <tr>\n",
       "      <th>dex</th>\n",
       "      <td>0.108974</td>\n",
       "      <td>2.254061</td>\n",
       "      <td>dex</td>\n",
       "    </tr>\n",
       "    <tr>\n",
       "      <th>sodium-ion</th>\n",
       "      <td>0.038139</td>\n",
       "      <td>0.061717</td>\n",
       "      <td>sodium-ion</td>\n",
       "    </tr>\n",
       "    <tr>\n",
       "      <th>å</th>\n",
       "      <td>3.252361</td>\n",
       "      <td>3.092029</td>\n",
       "      <td>å</td>\n",
       "    </tr>\n",
       "  </tbody>\n",
       "</table>\n",
       "<p>16927 rows × 3 columns</p>\n",
       "</div>"
      ],
      "text/plain": [
       "                       x         y            Word\n",
       "(               3.234301  2.652190               (\n",
       ")               3.232558  2.471082               )\n",
       "polymerization  2.711068  1.027165  polymerization\n",
       "polymer        -0.141094  0.610811         polymer\n",
       "properties     -1.087538  1.720496      properties\n",
       "...                  ...       ...             ...\n",
       "expansive      -0.369042  0.043179       expansive\n",
       "pathology      -0.153758 -0.149799       pathology\n",
       "dex             0.108974  2.254061             dex\n",
       "sodium-ion      0.038139  0.061717      sodium-ion\n",
       "å              3.252361  3.092029              å\n",
       "\n",
       "[16927 rows x 3 columns]"
      ]
     },
     "execution_count": 162,
     "metadata": {},
     "output_type": "execute_result"
    }
   ],
   "source": [
    "df = generate_umap_embedding(labels, vectors)\n",
    "df"
   ]
  },
  {
   "cell_type": "code",
   "execution_count": 163,
   "id": "b520da33",
   "metadata": {
    "scrolled": true
   },
   "outputs": [
    {
     "name": "stdout",
     "output_type": "stream",
     "text": [
      "                            x         y                 Word\n",
      "polymerization       2.711068  1.027165       polymerization\n",
      "polymer             -0.141094  0.610811              polymer\n",
      "metallocene          3.554819  1.322743          metallocene\n",
      "methylaluminoxane    3.823787  1.673640    methylaluminoxane\n",
      "metallocenes         3.746145  1.056605         metallocenes\n",
      "1-hexene             3.620939  1.581412             1-hexene\n",
      "propene              3.666639  1.543417              propene\n",
      "1-octene             3.567669  1.579864             1-octene\n",
      "ethene               3.502131  1.494786               ethene\n",
      "1-butene             3.408952  1.714546             1-butene\n",
      "1-decene             3.585007  1.592730             1-decene\n",
      "triisobutylaluminum  3.980993  1.562889  triisobutylaluminum\n",
      "triethylaluminum     4.046002  1.460860     triethylaluminum\n",
      "1,7-octadiene        2.680674  2.014423        1,7-octadiene\n"
     ]
    }
   ],
   "source": [
    "catalyst_names = ['Cp*Ti(OBz)3','Cp2ZrCl2','Cp2ZrCl','Cp2HfCl2','Cp2TiCl2','EtInd2ZrCl2','(nBuCp)2ZrCl2','Et[Ind]2ZrCl2','Et(Ind)2ZrCl2','(n-BuCp)2ZrCl2','(SBI)ZrMe2', 'Cp2TiMe2','Cp2ZrMe2','Cp2HfMe2','Me2SiInd2ZrCl2','CpZrCl3','CpTiCl3','CpHfCl3','Cl4Ti','Cp*ZrMe3']\n",
    "activator_names = ['MAO','TIBA','TEA','TIBAO','MMAO','methylaluminoxane','triethylaluminum','triisobutylaluminum','Et3Al','AlEtCl2','AlEt2Cl','tris(pentafluorophenyl)borane', '[CPh3][B(C6F5)4]','CPh3B(C6F5)4','ethylaluminoxane','tetrachloroaluminate','tri-isobutylaluminum','methyl-aluminoxane','tetrakis(pentafluorophenyl)borane']\n",
    "monomer_names = ['propene', 'ethene', '1-butene', '1,7-octadiene', '1-hexene', '1-dodecene', '1-decene', '1-octene']\n",
    "keywords = [\"polymer\", \"polymerization\", \"metallocene\", \"metallocenes\"]\n",
    "highlight = []\n",
    "for cat in catalyst_names:\n",
    "    highlight.append(cat)\n",
    "for act in activator_names:\n",
    "    highlight.append(act)\n",
    "for mon in monomer_names:\n",
    "    highlight.append(mon)\n",
    "for w in keywords:\n",
    "    highlight.append(w)\n",
    "\n",
    "df = df[df.Word.isin(highlight)]\n",
    "\n",
    "print(df)"
   ]
  },
  {
   "cell_type": "code",
   "execution_count": 164,
   "id": "45cff27b",
   "metadata": {
    "scrolled": true
   },
   "outputs": [],
   "source": [
    "interactive_plot(df,highlight, \n",
    "                [len(catalyst_names), len(activator_names) + len(monomer_names), len(keywords)], fn='2dvis')"
   ]
  },
  {
   "cell_type": "code",
   "execution_count": null,
   "id": "c17b538e",
   "metadata": {},
   "outputs": [],
   "source": []
  }
 ],
 "metadata": {
  "kernelspec": {
   "display_name": "Python 3 (ipykernel)",
   "language": "python",
   "name": "python3"
  },
  "language_info": {
   "codemirror_mode": {
    "name": "ipython",
    "version": 3
   },
   "file_extension": ".py",
   "mimetype": "text/x-python",
   "name": "python",
   "nbconvert_exporter": "python",
   "pygments_lexer": "ipython3",
   "version": "3.10.6"
  }
 },
 "nbformat": 4,
 "nbformat_minor": 5
}
